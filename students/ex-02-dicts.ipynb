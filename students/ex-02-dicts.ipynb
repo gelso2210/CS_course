{
  "cells": [
    {
      "cell_type": "markdown",
      "metadata": {
        "id": "r5W-UIkSdovf"
      },
      "source": [
        "# Dictionaries"
      ]
    },
    {
      "cell_type": "markdown",
      "metadata": {
        "id": "uY5-vUvbdovh"
      },
      "source": [
        "#### 1) Print all natural numbers from 1 to 100 with the following caveat: multiples of 3 must be replaced by the string `fizz`, multiples of 5 must be replaced by the string `buzz`, multiples of 15 must be replaced by the string `fizzbuzz`."
      ]
    },
    {
      "cell_type": "code",
      "source": [
        "for i in range(1,100):\n",
        "  print(i)"
      ],
      "metadata": {
        "id": "H8Er2QWkdrSM",
        "outputId": "ecba5d5f-1971-48f4-9c68-eb2adb0cd75c",
        "colab": {
          "base_uri": "https://localhost:8080/"
        }
      },
      "execution_count": 3,
      "outputs": [
        {
          "output_type": "stream",
          "name": "stdout",
          "text": [
            "1\n",
            "2\n",
            "3\n",
            "4\n",
            "5\n",
            "6\n",
            "7\n",
            "8\n",
            "9\n",
            "10\n",
            "11\n",
            "12\n",
            "13\n",
            "14\n",
            "15\n",
            "16\n",
            "17\n",
            "18\n",
            "19\n",
            "20\n",
            "21\n",
            "22\n",
            "23\n",
            "24\n",
            "25\n",
            "26\n",
            "27\n",
            "28\n",
            "29\n",
            "30\n",
            "31\n",
            "32\n",
            "33\n",
            "34\n",
            "35\n",
            "36\n",
            "37\n",
            "38\n",
            "39\n",
            "40\n",
            "41\n",
            "42\n",
            "43\n",
            "44\n",
            "45\n",
            "46\n",
            "47\n",
            "48\n",
            "49\n",
            "50\n",
            "51\n",
            "52\n",
            "53\n",
            "54\n",
            "55\n",
            "56\n",
            "57\n",
            "58\n",
            "59\n",
            "60\n",
            "61\n",
            "62\n",
            "63\n",
            "64\n",
            "65\n",
            "66\n",
            "67\n",
            "68\n",
            "69\n",
            "70\n",
            "71\n",
            "72\n",
            "73\n",
            "74\n",
            "75\n",
            "76\n",
            "77\n",
            "78\n",
            "79\n",
            "80\n",
            "81\n",
            "82\n",
            "83\n",
            "84\n",
            "85\n",
            "86\n",
            "87\n",
            "88\n",
            "89\n",
            "90\n",
            "91\n",
            "92\n",
            "93\n",
            "94\n",
            "95\n",
            "96\n",
            "97\n",
            "98\n",
            "99\n"
          ]
        }
      ]
    },
    {
      "cell_type": "markdown",
      "metadata": {
        "id": "V4Rrq2Ywdovi"
      },
      "source": [
        "#### 2) Create a dictionary (`squares`) in which the keys are the numbers between 1 and 100 and the values are the square of the keys."
      ]
    },
    {
      "cell_type": "markdown",
      "metadata": {
        "id": "-vegzXa_dovi"
      },
      "source": [
        "#### 3) Iterate over `squares` and print the `(key, value)` pair if and only if `key` is either a multiple of 3 or 5."
      ]
    },
    {
      "cell_type": "markdown",
      "metadata": {
        "id": "I3L771r7dovj"
      },
      "source": [
        "#### 4) Create a dictionary (`roots`) in which the keys are the numbers between 1 and 100 and the values are the square roots of the keys. Remember that computing the square root is equal to elevate to the $1/2$ power."
      ]
    },
    {
      "cell_type": "markdown",
      "metadata": {
        "id": "KEVgClu0dovj"
      },
      "source": [
        "#### 5) Merge `squares` and `roots` and create a new dictionary (`squares_and_roots`) that maps each key to another dictionary with `'square'` and `'root'` as keys (`squares_and_roots[n]['square']` contains the square of `n` and `square_and_roots[n]['root']` contains the root of `n`)."
      ]
    },
    {
      "cell_type": "markdown",
      "metadata": {
        "id": "OWfexYhWdovj"
      },
      "source": [
        "#### 6) For each key in `squares_and_roots` print the key, the square, and the root on a single line."
      ]
    }
  ],
  "metadata": {
    "kernelspec": {
      "display_name": "Python 3 (ipykernel)",
      "language": "python",
      "name": "python3"
    },
    "language_info": {
      "codemirror_mode": {
        "name": "ipython",
        "version": 3
      },
      "file_extension": ".py",
      "mimetype": "text/x-python",
      "name": "python",
      "nbconvert_exporter": "python",
      "pygments_lexer": "ipython3",
      "version": "3.11.5"
    },
    "colab": {
      "provenance": []
    }
  },
  "nbformat": 4,
  "nbformat_minor": 0
}