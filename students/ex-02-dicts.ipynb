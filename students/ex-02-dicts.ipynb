{
  "cells": [
    {
      "cell_type": "markdown",
      "metadata": {
        "id": "r5W-UIkSdovf"
      },
      "source": [
        "# Dictionaries"
      ]
    },
    {
      "cell_type": "markdown",
      "metadata": {
        "id": "uY5-vUvbdovh"
      },
      "source": [
        "#### 1) Print all natural numbers from 1 to 100 with the following caveat: multiples of 3 must be replaced by the string `fizz`, multiples of 5 must be replaced by the string `buzz`, multiples of 15 must be replaced by the string `fizzbuzz`."
      ]
    },
    {
      "cell_type": "code",
      "source": [
        "for i in range(1,101):\n",
        "  if i % 15 ==0:\n",
        "    print(\"fizzbuzz\")\n",
        "  elif i % 5 ==0:\n",
        "    print(\"buzz\")\n",
        "  elif i % 3 ==0:\n",
        "    print(\"fizz\")\n",
        "  else:\n",
        "    print(i)"
      ],
      "metadata": {
        "colab": {
          "base_uri": "https://localhost:8080/"
        },
        "collapsed": true,
        "id": "H8Er2QWkdrSM",
        "outputId": "5d6954d8-205e-4eb0-a689-c4f7eb83492c"
      },
      "execution_count": 6,
      "outputs": [
        {
          "output_type": "stream",
          "name": "stdout",
          "text": [
            "1\n",
            "2\n",
            "fizz\n",
            "4\n",
            "buzz\n",
            "fizz\n",
            "7\n",
            "8\n",
            "fizz\n",
            "buzz\n",
            "11\n",
            "fizz\n",
            "13\n",
            "14\n",
            "fizzbuzz\n",
            "16\n",
            "17\n",
            "fizz\n",
            "19\n",
            "buzz\n",
            "fizz\n",
            "22\n",
            "23\n",
            "fizz\n",
            "buzz\n",
            "26\n",
            "fizz\n",
            "28\n",
            "29\n",
            "fizzbuzz\n",
            "31\n",
            "32\n",
            "fizz\n",
            "34\n",
            "buzz\n",
            "fizz\n",
            "37\n",
            "38\n",
            "fizz\n",
            "buzz\n",
            "41\n",
            "fizz\n",
            "43\n",
            "44\n",
            "fizzbuzz\n",
            "46\n",
            "47\n",
            "fizz\n",
            "49\n",
            "buzz\n",
            "fizz\n",
            "52\n",
            "53\n",
            "fizz\n",
            "buzz\n",
            "56\n",
            "fizz\n",
            "58\n",
            "59\n",
            "fizzbuzz\n",
            "61\n",
            "62\n",
            "fizz\n",
            "64\n",
            "buzz\n",
            "fizz\n",
            "67\n",
            "68\n",
            "fizz\n",
            "buzz\n",
            "71\n",
            "fizz\n",
            "73\n",
            "74\n",
            "fizzbuzz\n",
            "76\n",
            "77\n",
            "fizz\n",
            "79\n",
            "buzz\n",
            "fizz\n",
            "82\n",
            "83\n",
            "fizz\n",
            "buzz\n",
            "86\n",
            "fizz\n",
            "88\n",
            "89\n",
            "fizzbuzz\n",
            "91\n",
            "92\n",
            "fizz\n",
            "94\n",
            "buzz\n",
            "fizz\n",
            "97\n",
            "98\n",
            "fizz\n",
            "buzz\n"
          ]
        }
      ]
    },
    {
      "cell_type": "markdown",
      "metadata": {
        "id": "V4Rrq2Ywdovi"
      },
      "source": [
        "#### 2) Create a dictionary (`squares`) in which the keys are the numbers between 1 and 100 and the values are the square of the keys."
      ]
    },
    {
      "cell_type": "code",
      "source": [
        "squares={}\n",
        "for k in range(1,100):\n",
        "  squares[k]= k**2\n",
        "squares"
      ],
      "metadata": {
        "collapsed": true,
        "id": "XmPM5fRKgitc",
        "outputId": "23dfeb9b-f1d1-490c-8093-24b2b2d53208",
        "colab": {
          "base_uri": "https://localhost:8080/"
        }
      },
      "execution_count": 9,
      "outputs": [
        {
          "output_type": "execute_result",
          "data": {
            "text/plain": [
              "{1: 1,\n",
              " 2: 4,\n",
              " 3: 9,\n",
              " 4: 16,\n",
              " 5: 25,\n",
              " 6: 36,\n",
              " 7: 49,\n",
              " 8: 64,\n",
              " 9: 81,\n",
              " 10: 100,\n",
              " 11: 121,\n",
              " 12: 144,\n",
              " 13: 169,\n",
              " 14: 196,\n",
              " 15: 225,\n",
              " 16: 256,\n",
              " 17: 289,\n",
              " 18: 324,\n",
              " 19: 361,\n",
              " 20: 400,\n",
              " 21: 441,\n",
              " 22: 484,\n",
              " 23: 529,\n",
              " 24: 576,\n",
              " 25: 625,\n",
              " 26: 676,\n",
              " 27: 729,\n",
              " 28: 784,\n",
              " 29: 841,\n",
              " 30: 900,\n",
              " 31: 961,\n",
              " 32: 1024,\n",
              " 33: 1089,\n",
              " 34: 1156,\n",
              " 35: 1225,\n",
              " 36: 1296,\n",
              " 37: 1369,\n",
              " 38: 1444,\n",
              " 39: 1521,\n",
              " 40: 1600,\n",
              " 41: 1681,\n",
              " 42: 1764,\n",
              " 43: 1849,\n",
              " 44: 1936,\n",
              " 45: 2025,\n",
              " 46: 2116,\n",
              " 47: 2209,\n",
              " 48: 2304,\n",
              " 49: 2401,\n",
              " 50: 2500,\n",
              " 51: 2601,\n",
              " 52: 2704,\n",
              " 53: 2809,\n",
              " 54: 2916,\n",
              " 55: 3025,\n",
              " 56: 3136,\n",
              " 57: 3249,\n",
              " 58: 3364,\n",
              " 59: 3481,\n",
              " 60: 3600,\n",
              " 61: 3721,\n",
              " 62: 3844,\n",
              " 63: 3969,\n",
              " 64: 4096,\n",
              " 65: 4225,\n",
              " 66: 4356,\n",
              " 67: 4489,\n",
              " 68: 4624,\n",
              " 69: 4761,\n",
              " 70: 4900,\n",
              " 71: 5041,\n",
              " 72: 5184,\n",
              " 73: 5329,\n",
              " 74: 5476,\n",
              " 75: 5625,\n",
              " 76: 5776,\n",
              " 77: 5929,\n",
              " 78: 6084,\n",
              " 79: 6241,\n",
              " 80: 6400,\n",
              " 81: 6561,\n",
              " 82: 6724,\n",
              " 83: 6889,\n",
              " 84: 7056,\n",
              " 85: 7225,\n",
              " 86: 7396,\n",
              " 87: 7569,\n",
              " 88: 7744,\n",
              " 89: 7921,\n",
              " 90: 8100,\n",
              " 91: 8281,\n",
              " 92: 8464,\n",
              " 93: 8649,\n",
              " 94: 8836,\n",
              " 95: 9025,\n",
              " 96: 9216,\n",
              " 97: 9409,\n",
              " 98: 9604,\n",
              " 99: 9801}"
            ]
          },
          "metadata": {},
          "execution_count": 9
        }
      ]
    },
    {
      "cell_type": "code",
      "source": [
        "{k: k**2 for k in range(1, 101)}"
      ],
      "metadata": {
        "collapsed": true,
        "id": "5zNeU8HOg-6d",
        "outputId": "e08cb5c7-ba8d-40e0-9b37-c99b4f4a1106",
        "colab": {
          "base_uri": "https://localhost:8080/"
        }
      },
      "execution_count": 12,
      "outputs": [
        {
          "output_type": "execute_result",
          "data": {
            "text/plain": [
              "{1: 1,\n",
              " 2: 4,\n",
              " 3: 9,\n",
              " 4: 16,\n",
              " 5: 25,\n",
              " 6: 36,\n",
              " 7: 49,\n",
              " 8: 64,\n",
              " 9: 81,\n",
              " 10: 100,\n",
              " 11: 121,\n",
              " 12: 144,\n",
              " 13: 169,\n",
              " 14: 196,\n",
              " 15: 225,\n",
              " 16: 256,\n",
              " 17: 289,\n",
              " 18: 324,\n",
              " 19: 361,\n",
              " 20: 400,\n",
              " 21: 441,\n",
              " 22: 484,\n",
              " 23: 529,\n",
              " 24: 576,\n",
              " 25: 625,\n",
              " 26: 676,\n",
              " 27: 729,\n",
              " 28: 784,\n",
              " 29: 841,\n",
              " 30: 900,\n",
              " 31: 961,\n",
              " 32: 1024,\n",
              " 33: 1089,\n",
              " 34: 1156,\n",
              " 35: 1225,\n",
              " 36: 1296,\n",
              " 37: 1369,\n",
              " 38: 1444,\n",
              " 39: 1521,\n",
              " 40: 1600,\n",
              " 41: 1681,\n",
              " 42: 1764,\n",
              " 43: 1849,\n",
              " 44: 1936,\n",
              " 45: 2025,\n",
              " 46: 2116,\n",
              " 47: 2209,\n",
              " 48: 2304,\n",
              " 49: 2401,\n",
              " 50: 2500,\n",
              " 51: 2601,\n",
              " 52: 2704,\n",
              " 53: 2809,\n",
              " 54: 2916,\n",
              " 55: 3025,\n",
              " 56: 3136,\n",
              " 57: 3249,\n",
              " 58: 3364,\n",
              " 59: 3481,\n",
              " 60: 3600,\n",
              " 61: 3721,\n",
              " 62: 3844,\n",
              " 63: 3969,\n",
              " 64: 4096,\n",
              " 65: 4225,\n",
              " 66: 4356,\n",
              " 67: 4489,\n",
              " 68: 4624,\n",
              " 69: 4761,\n",
              " 70: 4900,\n",
              " 71: 5041,\n",
              " 72: 5184,\n",
              " 73: 5329,\n",
              " 74: 5476,\n",
              " 75: 5625,\n",
              " 76: 5776,\n",
              " 77: 5929,\n",
              " 78: 6084,\n",
              " 79: 6241,\n",
              " 80: 6400,\n",
              " 81: 6561,\n",
              " 82: 6724,\n",
              " 83: 6889,\n",
              " 84: 7056,\n",
              " 85: 7225,\n",
              " 86: 7396,\n",
              " 87: 7569,\n",
              " 88: 7744,\n",
              " 89: 7921,\n",
              " 90: 8100,\n",
              " 91: 8281,\n",
              " 92: 8464,\n",
              " 93: 8649,\n",
              " 94: 8836,\n",
              " 95: 9025,\n",
              " 96: 9216,\n",
              " 97: 9409,\n",
              " 98: 9604,\n",
              " 99: 9801,\n",
              " 100: 10000}"
            ]
          },
          "metadata": {},
          "execution_count": 12
        }
      ]
    },
    {
      "cell_type": "markdown",
      "metadata": {
        "id": "-vegzXa_dovi"
      },
      "source": [
        "#### 3) Iterate over `squares` and print the `(key, value)` pair if and only if `key` is either a multiple of 3 or 5."
      ]
    },
    {
      "cell_type": "code",
      "source": [],
      "metadata": {
        "id": "TSZjIBp8h8Jp"
      },
      "execution_count": null,
      "outputs": []
    },
    {
      "cell_type": "markdown",
      "metadata": {
        "id": "I3L771r7dovj"
      },
      "source": [
        "#### 4) Create a dictionary (`roots`) in which the keys are the numbers between 1 and 100 and the values are the square roots of the keys. Remember that computing the square root is equal to elevate to the $1/2$ power."
      ]
    },
    {
      "cell_type": "markdown",
      "metadata": {
        "id": "KEVgClu0dovj"
      },
      "source": [
        "#### 5) Merge `squares` and `roots` and create a new dictionary (`squares_and_roots`) that maps each key to another dictionary with `'square'` and `'root'` as keys (`squares_and_roots[n]['square']` contains the square of `n` and `square_and_roots[n]['root']` contains the root of `n`)."
      ]
    },
    {
      "cell_type": "markdown",
      "metadata": {
        "id": "OWfexYhWdovj"
      },
      "source": [
        "#### 6) For each key in `squares_and_roots` print the key, the square, and the root on a single line."
      ]
    }
  ],
  "metadata": {
    "kernelspec": {
      "display_name": "Python 3 (ipykernel)",
      "language": "python",
      "name": "python3"
    },
    "language_info": {
      "codemirror_mode": {
        "name": "ipython",
        "version": 3
      },
      "file_extension": ".py",
      "mimetype": "text/x-python",
      "name": "python",
      "nbconvert_exporter": "python",
      "pygments_lexer": "ipython3",
      "version": "3.11.5"
    },
    "colab": {
      "provenance": []
    }
  },
  "nbformat": 4,
  "nbformat_minor": 0
}