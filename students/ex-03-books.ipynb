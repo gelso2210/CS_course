{
  "cells": [
    {
      "cell_type": "markdown",
      "metadata": {
        "id": "FOTAgyOAa3kK"
      },
      "source": [
        "Suppose the cover price of a book is €24.95, but bookstores get a 40% discount.\n",
        "Shipping costs €3 for the first copy and 75 cents for each additional copy. What is the total wholesale cost for 60 copies?"
      ]
    },
    {
      "cell_type": "code",
      "source": [
        "def total_cost(n_copies):\n",
        "  return 24.95*0.60*n_copies + 3+ 0.75*(n_copies-1)"
      ],
      "metadata": {
        "id": "-HP3EN_ibVWa"
      },
      "execution_count": 1,
      "outputs": []
    },
    {
      "cell_type": "code",
      "source": [
        "total_cost(60)"
      ],
      "metadata": {
        "colab": {
          "base_uri": "https://localhost:8080/"
        },
        "id": "99s_EXB5cRjr",
        "outputId": "1b1e9f52-ae13-4339-e9b0-33f716105524"
      },
      "execution_count": 4,
      "outputs": [
        {
          "output_type": "execute_result",
          "data": {
            "text/plain": [
              "945.4499999999999"
            ]
          },
          "metadata": {},
          "execution_count": 4
        }
      ]
    },
    {
      "cell_type": "markdown",
      "metadata": {
        "id": "Z2AcCWJGa3kN"
      },
      "source": [
        "And the cost for 200 copies?\n",
        "\n",
        "Compare your answer with the solution up to 2 decimal numbers."
      ]
    },
    {
      "cell_type": "code",
      "source": [
        "from numpy import round\n",
        "round(total_cost(200), 2)"
      ],
      "metadata": {
        "colab": {
          "base_uri": "https://localhost:8080/"
        },
        "id": "zfaJcYNVccBs",
        "outputId": "516af644-1632-449c-e036-d28e50704f2b"
      },
      "execution_count": 5,
      "outputs": [
        {
          "output_type": "execute_result",
          "data": {
            "text/plain": [
              "3146.25"
            ]
          },
          "metadata": {},
          "execution_count": 5
        }
      ]
    },
    {
      "cell_type": "markdown",
      "metadata": {
        "id": "Mw5JZ7aYa3kN"
      },
      "source": [
        "Find the number of copies you can buy with €10000."
      ]
    },
    {
      "cell_type": "code",
      "source": [
        "# 24.95*0.60*x + 3+ 0.75*(x-1)= 10000\n",
        "# 14.975x  + 0,75x = 9997,75\n",
        "x= 9997.75/(14.975+0.75)\n",
        "print(x)"
      ],
      "metadata": {
        "colab": {
          "base_uri": "https://localhost:8080/"
        },
        "id": "_2tuQj8fczuD",
        "outputId": "56d1d0df-377c-431a-c705-03670bd17d06"
      },
      "execution_count": 12,
      "outputs": [
        {
          "output_type": "stream",
          "name": "stdout",
          "text": [
            "635.7869634340223\n"
          ]
        }
      ]
    },
    {
      "cell_type": "markdown",
      "metadata": {
        "id": "enk4Bx1ma3kO"
      },
      "source": [
        "Find the number of copies you can buy with €10000, using a while loop"
      ]
    },
    {
      "cell_type": "code",
      "source": [
        "def total_cost(n_copies):\n",
        "  return 24.95*0.60*n_copies + 3+ 0.75*(n_copies-1)\n",
        "\n",
        "i=1\n",
        "total_cost_part=int(total_cost(i))\n",
        "while total_cost_part< 10000:\n",
        "  total_cost_part=total_cost(i)\n",
        "  i+=1\n",
        "print(i)\n",
        "\n",
        "#solution account for the firs copy major price\n",
        "cost = (3 - 0.75)\n",
        "single_copy_cost = 24.95 * 60 / 100 + 0.75\n",
        "copies = 0\n",
        "while (cost < 10000):\n",
        "    copies += 1\n",
        "    cost += single_copy_cost\n",
        "copies - 1"
      ],
      "metadata": {
        "colab": {
          "base_uri": "https://localhost:8080/"
        },
        "id": "PugQ1gDWecX2",
        "outputId": "eab7c87e-cca7-4fc9-b082-6f2ebf928f2e"
      },
      "execution_count": 21,
      "outputs": [
        {
          "output_type": "stream",
          "name": "stdout",
          "text": [
            "637\n"
          ]
        },
        {
          "output_type": "execute_result",
          "data": {
            "text/plain": [
              "635"
            ]
          },
          "metadata": {},
          "execution_count": 21
        }
      ]
    },
    {
      "cell_type": "markdown",
      "metadata": {
        "id": "5qWE3Awfa3kO"
      },
      "source": [
        "Find the number of copies you can buy with €10000, using a for loop (Hint: use `range(10000)`)"
      ]
    },
    {
      "cell_type": "code",
      "source": [
        "def total_cost(n_copies):\n",
        "  return 24.95*0.60*n_copies + 3+ 0.75*(n_copies-1)\n",
        "\n",
        "budget= 10000\n",
        "for i in range(10000):\n",
        "  pass\n",
        "  # why cycle over budget?\n",
        "\n",
        "\n",
        "# just use it for cycling copies  ,non chiarissmo\n",
        "for copies in range(10000):\n",
        "    if 24.95 * 0.6 * copies + 3 + 0.75 * (copies - 1) <= 10000:\n",
        "        if 24.95 * 0.6 * (copies + 1) + 3 + 0.75 * copies > 10000:\n",
        "            print(copies)"
      ],
      "metadata": {
        "colab": {
          "base_uri": "https://localhost:8080/"
        },
        "id": "vMy_zpe5fh5Q",
        "outputId": "fdf7714b-7907-4bdc-b792-0ea107588d7f"
      },
      "execution_count": 22,
      "outputs": [
        {
          "output_type": "stream",
          "name": "stdout",
          "text": [
            "635\n"
          ]
        }
      ]
    }
  ],
  "metadata": {
    "kernelspec": {
      "display_name": "Python 3 (ipykernel)",
      "language": "python",
      "name": "python3"
    },
    "language_info": {
      "codemirror_mode": {
        "name": "ipython",
        "version": 3
      },
      "file_extension": ".py",
      "mimetype": "text/x-python",
      "name": "python",
      "nbconvert_exporter": "python",
      "pygments_lexer": "ipython3",
      "version": "3.10.6"
    },
    "colab": {
      "provenance": []
    }
  },
  "nbformat": 4,
  "nbformat_minor": 0
}