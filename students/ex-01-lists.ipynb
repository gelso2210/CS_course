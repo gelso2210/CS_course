{
  "cells": [
    {
      "cell_type": "markdown",
      "metadata": {
        "id": "UaJW3EodK-DD"
      },
      "source": [
        "# Lists"
      ]
    },
    {
      "cell_type": "markdown",
      "metadata": {
        "id": "9iCEWXiPK-DE"
      },
      "source": [
        "#### 1) Create a list named `sw_movies` and set its initial value to the sequence `[\"The Phantom Menace\", \"Attack of the Clones\", \"Revenge of the Sith\", \"A New Hope\", \"The Empire Strikes Back\", \"Return of the Jedi\", \"The Force Awakens\", \"The Last Jedi\"]`"
      ]
    },
    {
      "cell_type": "code",
      "source": [
        "sw_movies= [\"The Phantom Menace\", \"Attack of the Clones\", \"Revenge of the Sith\", \"A New Hope\", \"The Empire Strikes Back\", \"Return of the Jedi\", \"The Force Awakens\", \"The Last Jedi\"]\n",
        "sw_movies"
      ],
      "metadata": {
        "colab": {
          "base_uri": "https://localhost:8080/"
        },
        "id": "Va96kLC9LJEp",
        "outputId": "936d486c-10b8-4369-b96f-06c6b58501d4"
      },
      "execution_count": 10,
      "outputs": [
        {
          "output_type": "execute_result",
          "data": {
            "text/plain": [
              "['The Phantom Menace',\n",
              " 'Attack of the Clones',\n",
              " 'Revenge of the Sith',\n",
              " 'A New Hope',\n",
              " 'The Empire Strikes Back',\n",
              " 'Return of the Jedi',\n",
              " 'The Force Awakens',\n",
              " 'The Last Jedi']"
            ]
          },
          "metadata": {},
          "execution_count": 10
        }
      ]
    },
    {
      "cell_type": "markdown",
      "metadata": {
        "id": "BAdf9tlQK-DF"
      },
      "source": [
        "#### 2) Append the string `\"Unknown Title\"` to `sw_movies`."
      ]
    },
    {
      "cell_type": "markdown",
      "metadata": {
        "id": "ku6CONzcK-DF"
      },
      "source": [
        "**Answer:** *It is possible to append an element to a list using the `append` method of it. It is possible to read the documentation directly in the jupyter notebook by issuing one of the following commands.*\n",
        "```python\n",
        "help(sw_movies.append)\n",
        "sw_movies.append?\n",
        "```"
      ]
    },
    {
      "cell_type": "code",
      "source": [
        "sw_movies.append(\"Unknown Title\")"
      ],
      "metadata": {
        "id": "xybHuTchOnwx"
      },
      "execution_count": 11,
      "outputs": []
    },
    {
      "cell_type": "code",
      "source": [
        "\n",
        "sw_movies"
      ],
      "metadata": {
        "id": "Lg1675YsOxMv",
        "outputId": "addf4297-543d-4d36-9216-6636ecca3204",
        "colab": {
          "base_uri": "https://localhost:8080/"
        }
      },
      "execution_count": 12,
      "outputs": [
        {
          "output_type": "execute_result",
          "data": {
            "text/plain": [
              "['The Phantom Menace',\n",
              " 'Attack of the Clones',\n",
              " 'Revenge of the Sith',\n",
              " 'A New Hope',\n",
              " 'The Empire Strikes Back',\n",
              " 'Return of the Jedi',\n",
              " 'The Force Awakens',\n",
              " 'The Last Jedi',\n",
              " 'Unknown Title']"
            ]
          },
          "metadata": {},
          "execution_count": 12
        }
      ]
    },
    {
      "cell_type": "markdown",
      "metadata": {
        "id": "7twnTxCKK-DG"
      },
      "source": [
        "#### 3) Access (and print) the 5th element of `sw_movies`."
      ]
    },
    {
      "cell_type": "markdown",
      "metadata": {
        "id": "Lfuika6SK-DG"
      },
      "source": [
        "#### 4) Access (and print) the element in position 5 of `sw_movies`."
      ]
    },
    {
      "cell_type": "markdown",
      "metadata": {
        "id": "45HVUEo0K-DH"
      },
      "source": [
        "#### 2.5) Print the 4th, 5th, and 6th elements of `sw_movies`"
      ]
    },
    {
      "cell_type": "markdown",
      "metadata": {
        "id": "JFoyKGbSK-DH"
      },
      "source": [
        "**Answer:** *There are at least 3 ways print contiguous elements of a list.*\n",
        "1.  three different prints\n",
        "2.  a single print with all variable\n",
        "3.  print a slice"
      ]
    },
    {
      "cell_type": "markdown",
      "metadata": {
        "id": "9qqy9UYuK-DH"
      },
      "source": [
        "#### 6) Delete the last element of the list using `pop()`.  Remember that you can access the documentation of any function using `help` or `?`"
      ]
    },
    {
      "cell_type": "markdown",
      "metadata": {
        "id": "3xH37z-gK-DI"
      },
      "source": [
        "#### 7) Check the type of `sw_movies`."
      ]
    },
    {
      "cell_type": "markdown",
      "metadata": {
        "id": "RGfFXhlNK-DI"
      },
      "source": [
        "#### 8) Check the type of the first element of `sw_movies`."
      ]
    },
    {
      "cell_type": "markdown",
      "metadata": {
        "id": "Yf-b6ZWjK-DI"
      },
      "source": [
        "#### 9) Delete the first element of `sw_movies`."
      ]
    },
    {
      "cell_type": "markdown",
      "metadata": {
        "id": "ZZwWcghpK-DI"
      },
      "source": [
        "#### 10) Put `\"The Panthom Menace\"` back in `sw_movies` (it's still canon after all...) in the original position."
      ]
    }
  ],
  "metadata": {
    "kernelspec": {
      "display_name": "Python 3 (ipykernel)",
      "language": "python",
      "name": "python3"
    },
    "language_info": {
      "codemirror_mode": {
        "name": "ipython",
        "version": 3
      },
      "file_extension": ".py",
      "mimetype": "text/x-python",
      "name": "python",
      "nbconvert_exporter": "python",
      "pygments_lexer": "ipython3",
      "version": "3.11.4"
    },
    "colab": {
      "provenance": []
    }
  },
  "nbformat": 4,
  "nbformat_minor": 0
}