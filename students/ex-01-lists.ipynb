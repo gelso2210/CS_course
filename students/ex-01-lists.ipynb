{
  "cells": [
    {
      "cell_type": "markdown",
      "metadata": {
        "id": "UaJW3EodK-DD"
      },
      "source": [
        "# Lists"
      ]
    },
    {
      "cell_type": "markdown",
      "metadata": {
        "id": "9iCEWXiPK-DE"
      },
      "source": [
        "#### 1) Create a list named `sw_movies` and set its initial value to the sequence `[\"The Phantom Menace\", \"Attack of the Clones\", \"Revenge of the Sith\", \"A New Hope\", \"The Empire Strikes Back\", \"Return of the Jedi\", \"The Force Awakens\", \"The Last Jedi\"]`"
      ]
    },
    {
      "cell_type": "code",
      "source": [
        "sw_movies= [\"The Phantom Menace\", \"Attack of the Clones\", \"Revenge of the Sith\", \"A New Hope\", \"The Empire Strikes Back\", \"Return of the Jedi\", \"The Force Awakens\", \"The Last Jedi\"]\n",
        "sw_movies"
      ],
      "metadata": {
        "colab": {
          "base_uri": "https://localhost:8080/"
        },
        "id": "Va96kLC9LJEp",
        "outputId": "fa111e86-e18b-4a98-a95b-1f853076910c"
      },
      "execution_count": 71,
      "outputs": [
        {
          "output_type": "execute_result",
          "data": {
            "text/plain": [
              "['The Phantom Menace',\n",
              " 'Attack of the Clones',\n",
              " 'Revenge of the Sith',\n",
              " 'A New Hope',\n",
              " 'The Empire Strikes Back',\n",
              " 'Return of the Jedi',\n",
              " 'The Force Awakens',\n",
              " 'The Last Jedi']"
            ]
          },
          "metadata": {},
          "execution_count": 71
        }
      ]
    },
    {
      "cell_type": "markdown",
      "metadata": {
        "id": "BAdf9tlQK-DF"
      },
      "source": [
        "#### 2) Append the string `\"Unknown Title\"` to `sw_movies`."
      ]
    },
    {
      "cell_type": "markdown",
      "metadata": {
        "id": "ku6CONzcK-DF"
      },
      "source": [
        "**Answer:** *It is possible to append an element to a list using the `append` method of it. It is possible to read the documentation directly in the jupyter notebook by issuing one of the following commands.*\n",
        "```python\n",
        "help(sw_movies.append)\n",
        "sw_movies.append?\n",
        "```"
      ]
    },
    {
      "cell_type": "code",
      "source": [
        "sw_movies.append(\"Unknown Title\")"
      ],
      "metadata": {
        "id": "xybHuTchOnwx"
      },
      "execution_count": 72,
      "outputs": []
    },
    {
      "cell_type": "code",
      "source": [
        "\n",
        "sw_movies"
      ],
      "metadata": {
        "colab": {
          "base_uri": "https://localhost:8080/"
        },
        "id": "Lg1675YsOxMv",
        "outputId": "adedc8e2-5b85-4de4-bec2-b0dec34af55d"
      },
      "execution_count": 73,
      "outputs": [
        {
          "output_type": "execute_result",
          "data": {
            "text/plain": [
              "['The Phantom Menace',\n",
              " 'Attack of the Clones',\n",
              " 'Revenge of the Sith',\n",
              " 'A New Hope',\n",
              " 'The Empire Strikes Back',\n",
              " 'Return of the Jedi',\n",
              " 'The Force Awakens',\n",
              " 'The Last Jedi',\n",
              " 'Unknown Title']"
            ]
          },
          "metadata": {},
          "execution_count": 73
        }
      ]
    },
    {
      "cell_type": "markdown",
      "metadata": {
        "id": "7twnTxCKK-DG"
      },
      "source": [
        "#### 3) Access (and print) the 5th element of `sw_movies`."
      ]
    },
    {
      "cell_type": "code",
      "source": [
        "sw_movies[4]"
      ],
      "metadata": {
        "id": "l5PcLgKbP61w",
        "outputId": "b0332ebb-b6b9-4707-fe43-e09782dc4a5b",
        "colab": {
          "base_uri": "https://localhost:8080/",
          "height": 35
        }
      },
      "execution_count": 74,
      "outputs": [
        {
          "output_type": "execute_result",
          "data": {
            "text/plain": [
              "'The Empire Strikes Back'"
            ],
            "application/vnd.google.colaboratory.intrinsic+json": {
              "type": "string"
            }
          },
          "metadata": {},
          "execution_count": 74
        }
      ]
    },
    {
      "cell_type": "markdown",
      "metadata": {
        "id": "Lfuika6SK-DG"
      },
      "source": [
        "#### 4) Access (and print) the element in position 5 of `sw_movies`."
      ]
    },
    {
      "cell_type": "code",
      "source": [
        "sw_movies[5]"
      ],
      "metadata": {
        "id": "nwxNVAG_RQo8",
        "outputId": "d703002a-fadb-4aac-cbcf-e633a4ef6be0",
        "colab": {
          "base_uri": "https://localhost:8080/",
          "height": 35
        }
      },
      "execution_count": 75,
      "outputs": [
        {
          "output_type": "execute_result",
          "data": {
            "text/plain": [
              "'Return of the Jedi'"
            ],
            "application/vnd.google.colaboratory.intrinsic+json": {
              "type": "string"
            }
          },
          "metadata": {},
          "execution_count": 75
        }
      ]
    },
    {
      "cell_type": "markdown",
      "metadata": {
        "id": "45HVUEo0K-DH"
      },
      "source": [
        "#### 2.5) Print the 4th, 5th, and 6th elements of `sw_movies`"
      ]
    },
    {
      "cell_type": "markdown",
      "metadata": {
        "id": "JFoyKGbSK-DH"
      },
      "source": [
        "**Answer:** *There are at least 3 ways print contiguous elements of a list.*\n",
        "1.  three different prints\n",
        "2.  a single print with all variable\n",
        "3.  print a slice"
      ]
    },
    {
      "cell_type": "code",
      "source": [
        "print(sw_movies)\n",
        "print(sw_movies[3:6])"
      ],
      "metadata": {
        "id": "5CMXhLbLRgAe",
        "outputId": "13593f19-6019-4c15-a390-840ccb7023b9",
        "colab": {
          "base_uri": "https://localhost:8080/"
        }
      },
      "execution_count": 76,
      "outputs": [
        {
          "output_type": "stream",
          "name": "stdout",
          "text": [
            "['The Phantom Menace', 'Attack of the Clones', 'Revenge of the Sith', 'A New Hope', 'The Empire Strikes Back', 'Return of the Jedi', 'The Force Awakens', 'The Last Jedi', 'Unknown Title']\n",
            "['A New Hope', 'The Empire Strikes Back', 'Return of the Jedi']\n"
          ]
        }
      ]
    },
    {
      "cell_type": "markdown",
      "metadata": {
        "id": "9qqy9UYuK-DH"
      },
      "source": [
        "#### 6) Delete the last element of the list using `pop()`.  Remember that you can access the documentation of any function using `help` or `?`"
      ]
    },
    {
      "cell_type": "code",
      "source": [
        "popped_el= sw_movies.pop(len(sw_movies)-1)\n",
        "print(popped_el, sw_movies)"
      ],
      "metadata": {
        "id": "9TricvPTTOFZ",
        "outputId": "d0838a6c-f6da-4dab-92c1-976ba837e127",
        "colab": {
          "base_uri": "https://localhost:8080/"
        }
      },
      "execution_count": 77,
      "outputs": [
        {
          "output_type": "stream",
          "name": "stdout",
          "text": [
            "Unknown Title ['The Phantom Menace', 'Attack of the Clones', 'Revenge of the Sith', 'A New Hope', 'The Empire Strikes Back', 'Return of the Jedi', 'The Force Awakens', 'The Last Jedi']\n"
          ]
        }
      ]
    },
    {
      "cell_type": "markdown",
      "metadata": {
        "id": "3xH37z-gK-DI"
      },
      "source": [
        "#### 7) Check the type of `sw_movies`."
      ]
    },
    {
      "cell_type": "code",
      "source": [
        "type(sw_movies)"
      ],
      "metadata": {
        "id": "AtKhSrxiVVmq",
        "outputId": "f243833f-e2a1-47c9-fc58-e3790ac1099f",
        "colab": {
          "base_uri": "https://localhost:8080/"
        }
      },
      "execution_count": 78,
      "outputs": [
        {
          "output_type": "execute_result",
          "data": {
            "text/plain": [
              "list"
            ]
          },
          "metadata": {},
          "execution_count": 78
        }
      ]
    },
    {
      "cell_type": "markdown",
      "metadata": {
        "id": "RGfFXhlNK-DI"
      },
      "source": [
        "#### 8) Check the type of the first element of `sw_movies`."
      ]
    },
    {
      "cell_type": "code",
      "source": [
        "type(sw_movies[0])"
      ],
      "metadata": {
        "id": "ZwiXxfqPWogq",
        "outputId": "707b827a-5ac6-464d-9f61-6af6d7b77497",
        "colab": {
          "base_uri": "https://localhost:8080/"
        }
      },
      "execution_count": 79,
      "outputs": [
        {
          "output_type": "execute_result",
          "data": {
            "text/plain": [
              "str"
            ]
          },
          "metadata": {},
          "execution_count": 79
        }
      ]
    },
    {
      "cell_type": "markdown",
      "metadata": {
        "id": "Yf-b6ZWjK-DI"
      },
      "source": [
        "#### 9) Delete the first element of `sw_movies`."
      ]
    },
    {
      "cell_type": "code",
      "source": [
        "sw_movies2=sw_movies[0::]"
      ],
      "metadata": {
        "id": "AUK03WFrXb2m"
      },
      "execution_count": 80,
      "outputs": []
    },
    {
      "cell_type": "code",
      "source": [
        "sw_movies2"
      ],
      "metadata": {
        "id": "8_J6PNcsYlF2",
        "outputId": "29591252-8267-4efc-93a5-b1ccef954486",
        "colab": {
          "base_uri": "https://localhost:8080/"
        }
      },
      "execution_count": 81,
      "outputs": [
        {
          "output_type": "execute_result",
          "data": {
            "text/plain": [
              "['The Phantom Menace',\n",
              " 'Attack of the Clones',\n",
              " 'Revenge of the Sith',\n",
              " 'A New Hope',\n",
              " 'The Empire Strikes Back',\n",
              " 'Return of the Jedi',\n",
              " 'The Force Awakens',\n",
              " 'The Last Jedi']"
            ]
          },
          "metadata": {},
          "execution_count": 81
        }
      ]
    },
    {
      "cell_type": "code",
      "source": [
        "sw_movies.remove(sw_movies[0])\n",
        "sw_movies"
      ],
      "metadata": {
        "id": "w3sDMkp9XjT3",
        "outputId": "c9afe39b-e4b5-4d2c-adce-92517ab5aaaa",
        "colab": {
          "base_uri": "https://localhost:8080/"
        }
      },
      "execution_count": 82,
      "outputs": [
        {
          "output_type": "execute_result",
          "data": {
            "text/plain": [
              "['Attack of the Clones',\n",
              " 'Revenge of the Sith',\n",
              " 'A New Hope',\n",
              " 'The Empire Strikes Back',\n",
              " 'Return of the Jedi',\n",
              " 'The Force Awakens',\n",
              " 'The Last Jedi']"
            ]
          },
          "metadata": {},
          "execution_count": 82
        }
      ]
    },
    {
      "cell_type": "markdown",
      "metadata": {
        "id": "ZZwWcghpK-DI"
      },
      "source": [
        "#### 10) Put `\"The Panthom Menace\"` back in `sw_movies` (it's still canon after all...) in the original position."
      ]
    },
    {
      "cell_type": "code",
      "source": [
        "sw_movies.insert(0, \"The Panthom Menace\")"
      ],
      "metadata": {
        "id": "lnj28r76aN8j"
      },
      "execution_count": 83,
      "outputs": []
    }
  ],
  "metadata": {
    "kernelspec": {
      "display_name": "Python 3 (ipykernel)",
      "language": "python",
      "name": "python3"
    },
    "language_info": {
      "codemirror_mode": {
        "name": "ipython",
        "version": 3
      },
      "file_extension": ".py",
      "mimetype": "text/x-python",
      "name": "python",
      "nbconvert_exporter": "python",
      "pygments_lexer": "ipython3",
      "version": "3.11.4"
    },
    "colab": {
      "provenance": []
    }
  },
  "nbformat": 4,
  "nbformat_minor": 0
}