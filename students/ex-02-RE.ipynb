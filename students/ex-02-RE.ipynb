{
  "cells": [
    {
      "cell_type": "markdown",
      "metadata": {
        "id": "aglRuP3tf9Nb"
      },
      "source": [
        "# Regular Expression\n",
        "\n",
        "![title](https://imgs.xkcd.com/comics/regular_expressions.png)\n",
        "\n",
        "A **regular expression** (RE) is a compact notation for representing a collection of strings.\n",
        "REs are defined using a mini-language different from Python and are used to search and substitute patterns and to parse, split, and validate strings.\n",
        "\n",
        "In Python, REs and REs functionalities are defined in the `re` module."
      ]
    },
    {
      "cell_type": "markdown",
      "metadata": {
        "id": "MXmMI1D2f9Ne"
      },
      "source": [
        "The most common task with REs is to search a given pattern in a string.\n",
        "Let's start with searching a single character in a string."
      ]
    },
    {
      "cell_type": "markdown",
      "metadata": {
        "id": "wfdM7BQmf9Ne"
      },
      "source": [
        "`re.search` returns a [Match object](https://docs.python.org/3/library/re.html#match-objects)."
      ]
    },
    {
      "cell_type": "markdown",
      "metadata": {
        "id": "58BZCQeqf9Ne"
      },
      "source": [
        "The Match object evaluates to `True` if the pattern appears in the string, otherwise it is `None`."
      ]
    },
    {
      "cell_type": "markdown",
      "metadata": {
        "id": "pOv0hBipf9Nf"
      },
      "source": [
        "The match object can be queried to retrieve the information about the match occurrence."
      ]
    },
    {
      "cell_type": "markdown",
      "metadata": {
        "id": "WxwPvVmff9Nf"
      },
      "source": [
        "## Basics of the RE langage\n",
        "\n",
        "In a RE every character matches itself except for the following characters.\n",
        "\n",
        "| Character | Meaning |\n",
        "|:--- | :--- |\n",
        "| ^ | Beginning of line |\n",
        "| $ | End of line |\n",
        "| * | Match 0+ times the previous character in RE |\n",
        "| + | Match 1+ times the previous character in RE |\n",
        "| ? | Match 0 or 1 times the previous character in RE |\n",
        "\n",
        "It is possible to match any of the character in the previous table by \"escaping\" it using `\\`.  For example, `\\+` matches the character `+`.\n",
        "\n",
        "Moreover, characters `[` and `]` are used to group together other characters in a character class.\n",
        "For example `[abcd]` means *\"any character between a, b, c and d\"*.\n",
        "`[abcd]` and `[a-d]` are the same character class.\n",
        "\n",
        "To match multiple patterns, group all the patterns between parentheses, and divide them using `|`.\n",
        "For example `(ab|ca|de)` matches `ab`, `ca`, and `de`.\n",
        "\n",
        "If `^` is inside a character class, it complements the elements inside the class.  This means that `[^a-d]` represents any character that is not a, b, c, nor d.\n",
        "\n",
        "For example, given the lyrics of this famous song"
      ]
    },
    {
      "cell_type": "markdown",
      "metadata": {
        "id": "4-7kr_zJf9Nf"
      },
      "source": [
        "If we want do something on all the verses but the chorus verses (\"La, la, la, la [...]\") we can use the following code snippets."
      ]
    },
    {
      "cell_type": "markdown",
      "metadata": {
        "id": "cDu56Exaf9Nf"
      },
      "source": [
        "## Character Class Shorthands\n",
        "\n",
        "Python also defines some metacharacters for common character classes.\n",
        "\n",
        "| Character | Meaning |\n",
        "|:--- | :--- |\n",
        "| `.` | Any character |\n",
        "| `\\d` | Any digit, equivalent to `[0-9]` |\n",
        "| `\\D` | Any nondigit, equivalent to `[^0-9] |\n",
        "| `\\s` | Any whitespace (`\\t`, `\\n`, ...) |\n",
        "| `\\S` | Any nonwhitespace |\n",
        "| `\\w` | Any word character, equivalent to `[a-zA-Z0-9_]` |\n",
        "| `\\W` | Any nonword character |\n",
        "\n",
        "## Quantifiers\n",
        "\n",
        "A quantifier appears after an expression of a RE and has the form `{m, n}` where `m` and `n` are the minimum and maximum times the expression the quantifier applies to must match.\n",
        "\n",
        "For example\n",
        "```python\n",
        "re.search('(bla){2,100}', 'blablabla')\n",
        "```\n",
        "will return a match whereas\n",
        "```python\n",
        "re.search('(bla){4,100}', 'blablabla')\n",
        "```\n",
        "won't."
      ]
    },
    {
      "cell_type": "markdown",
      "metadata": {
        "id": "4VwH4K2Lf9Ng"
      },
      "source": [
        "## Compiling REs\n",
        "\n",
        "Usually REs are applied over and over.\n",
        "To speed up the processing it is possible to *compile* the regular expression into a compiled regex object and use it as many times as we like.\n",
        "For example, we can rewrite one of the previous examples as follows."
      ]
    },
    {
      "cell_type": "markdown",
      "metadata": {
        "id": "UXmu-A6zf9Ng"
      },
      "source": [
        "## Compilation flags\n",
        "\n",
        "Compilation flags let you modify some aspects of how REs work and are passed as arguments to the `re.compile` function.\n",
        "The most important compilation flag for us will be `re.IGNORECASE` (also `re.I`) that enables to match RE in a case insensitive fashion.\n",
        "This means that a lowercase and uppercase character will be treated as the same element (i.e., there will be no distinction between `a` and `A`).\n",
        "For a more in-depth analysis of compilation flags please refer to the [documentation](https://docs.python.org/3.6/howto/regex.html#compilation-flags)."
      ]
    },
    {
      "cell_type": "markdown",
      "metadata": {
        "id": "XuwKXRHcf9Ng"
      },
      "source": [
        "# RE functions\n",
        "\n",
        "For now we only used the `re.search` function but there are many more.\n",
        "The following table summarizes the most important functions.\n",
        "\n",
        "| Function | Description |\n",
        "|:--- |:--- |\n",
        "| [`re.findall(string)`](https://docs.python.org/3/library/re.html#re.Pattern.findall) | Returns all nonoverlapping matches of the RE (as a list of strings) |\n",
        "| [`re.match(string)`](https://docs.python.org/3/library/re.html#re.Pattern.match) | Returns a match object if the RE matches *at the start* of the string |\n",
        "| [`re.search(string)`](https://docs.python.org/3/library/re.html#re.Pattern.search) | Returns a match object if the RE matches anywhere in the string |\n",
        "| [`re.split(string)`](https://docs.python.org/3/library/re.html#re.Pattern.split) | Returns the list of strings that results from splitting string s on every occurrence of the RE |\n",
        "| [`re.sub(repl, string)`](https://docs.python.org/3/library/re.html#re.Pattern.sub) | Returns a coput of the string with every match of the RE replaced by `repl` |"
      ]
    },
    {
      "cell_type": "markdown",
      "metadata": {
        "id": "mkC0MvKLf9Ng"
      },
      "source": [
        "## Grouping\n",
        "\n",
        "Frequently you need to obtain more information than just whether the RE matched or not. Regular expressions are often used to dissect strings by writing a RE divided into several subgroups which match different components of interest [(see this linki)](https://docs.python.org/3/howto/regex.html#grouping).\n",
        "You can access the groups by using the `group()` method of the match.\n",
        "\n",
        "For example"
      ]
    },
    {
      "cell_type": "markdown",
      "metadata": {
        "id": "f5ZitqYjf9Nh"
      },
      "source": [
        "## Named groups\n",
        "\n",
        "Accessing groups by their position in the match is most of the times tedious.\n",
        "Python introduces **named group** to refer to each group using a key.\n",
        "The sytax for a named group is `(?P<key>*expression*)` were `<key>` is the key used and `*expression*` is the RE we're looking for."
      ]
    },
    {
      "cell_type": "markdown",
      "metadata": {
        "id": "MT-paF_Qf9Nh"
      },
      "source": [
        "## Backreferences\n",
        "\n",
        "Backreferences in a pattern allow you to specify that the contents of an earlier capturing group must also be found at the current location in the string. For example, `\\1` will succeed if the exact contents of group 1 can be found at the current position, and fails otherwise.\n",
        "\n",
        "Backreferences are usueful in many operations; for example if we want to detect doubled words in a string the following RE will suffice."
      ]
    },
    {
      "cell_type": "markdown",
      "metadata": {
        "id": "xoFm0kh4f9Nh"
      },
      "source": [
        "We can also use backreferences to remove doubled words from a sentence."
      ]
    },
    {
      "cell_type": "markdown",
      "metadata": {
        "id": "pv1S1ORaf9Nh"
      },
      "source": [
        "Note that this RE only works for non-overlapping matches!"
      ]
    },
    {
      "cell_type": "markdown",
      "metadata": {
        "id": "oUeFDlSuf9Nh"
      },
      "source": [
        "# Exercises\n",
        "\n",
        "\n"
      ]
    },
    {
      "cell_type": "markdown",
      "metadata": {
        "id": "Tsz3VAACf9Ni"
      },
      "source": [
        "**1)** The file `ex-data/numbers.txt` contains 10000 lines.  Each line contains either a number or a string, find how many even number are in the file."
      ]
    },
    {
      "cell_type": "code",
      "source": [
        "import pandas as pd\n",
        "import regex as re\n",
        "\n",
        "number= pd.read_csv('https://raw.githubusercontent.com/gdv/foundationsCS/main/students/ex-data/numbers.txt', header=None)\n",
        "number.columns = ['numbers']\n",
        "number.head(20)\n",
        "number.dtypes"
      ],
      "metadata": {
        "collapsed": true,
        "id": "DvOCaHPpgsNe",
        "outputId": "e1d19e1a-0ae2-40ca-dc01-1ed990d293d4",
        "colab": {
          "base_uri": "https://localhost:8080/",
          "height": 115
        }
      },
      "execution_count": 50,
      "outputs": [
        {
          "output_type": "execute_result",
          "data": {
            "text/plain": [
              "numbers    object\n",
              "dtype: object"
            ],
            "text/html": [
              "<div>\n",
              "<style scoped>\n",
              "    .dataframe tbody tr th:only-of-type {\n",
              "        vertical-align: middle;\n",
              "    }\n",
              "\n",
              "    .dataframe tbody tr th {\n",
              "        vertical-align: top;\n",
              "    }\n",
              "\n",
              "    .dataframe thead th {\n",
              "        text-align: right;\n",
              "    }\n",
              "</style>\n",
              "<table border=\"1\" class=\"dataframe\">\n",
              "  <thead>\n",
              "    <tr style=\"text-align: right;\">\n",
              "      <th></th>\n",
              "      <th>0</th>\n",
              "    </tr>\n",
              "  </thead>\n",
              "  <tbody>\n",
              "    <tr>\n",
              "      <th>numbers</th>\n",
              "      <td>object</td>\n",
              "    </tr>\n",
              "  </tbody>\n",
              "</table>\n",
              "</div><br><label><b>dtype:</b> object</label>"
            ]
          },
          "metadata": {},
          "execution_count": 50
        }
      ]
    },
    {
      "cell_type": "code",
      "source": [
        "def is_number_even(row):\n",
        "  if re.match('\\d+', row.numbers):\n",
        "    if int(row.numbers) % 2 == 0:\n",
        "      return True\n",
        "    else:\n",
        "      return False\n",
        "  else:\n",
        "    return False\n",
        "\n",
        "number.apply(is_number_even, axis=1).sum()"
      ],
      "metadata": {
        "id": "rm4jCvhMhfUp",
        "outputId": "548e2b95-94d0-448b-a0f0-b2b679149099",
        "colab": {
          "base_uri": "https://localhost:8080/"
        }
      },
      "execution_count": 26,
      "outputs": [
        {
          "output_type": "execute_result",
          "data": {
            "text/plain": [
              "4789"
            ]
          },
          "metadata": {},
          "execution_count": 26
        }
      ]
    },
    {
      "cell_type": "markdown",
      "metadata": {
        "id": "_jaPxAEvf9Ni"
      },
      "source": [
        "**2)** The file `ex-data/email.txt` contains 80000 lines.\n",
        "Each line might begin with some whitespaces (>=0), is followed by an email address, a number (>0) of spaces, and an age.\n",
        "Each email address is composed as follows:\n",
        "* a name\n",
        "* a separation character (either `.`, `_`, or `!`)\n",
        "* a surname\n",
        "* an optional integer number\n",
        "* a @ symbol\n",
        "* a domain\n",
        "\n",
        "Using REs and the concepts from previous lessons, find how many times each domain was used.\n",
        "\n",
        "Examples of possible lines in the file:\n",
        "```\n",
        "     riva!menist57@bofthew.com   70\n",
        "         Brittan_Knorr69@tyldd.com            42\n",
        "         Cammy_Shawcroft@antichef.net           28\n",
        "Lizzie!woolford@dispostable.com 75\n",
        "Lurette_beachel@fakeinbox.com           48\n",
        "      moria.ivery54@twinmail.de          64\n",
        "          luciana.Leclaire48@gowikibooks.com       50\n",
        "```"
      ]
    },
    {
      "cell_type": "code",
      "source": [
        "emails= pd.read_csv('https://raw.githubusercontent.com/gdv/foundationsCS/main/students/ex-data/email.txt', header=None)\n",
        "emails.columns = ['emails']\n",
        "emails.head(20)\n",
        "emails.dtypes"
      ],
      "metadata": {
        "id": "3_wX4vMMpAnl",
        "outputId": "b6426f93-75f3-4c21-b2e2-f99bb40b249a",
        "colab": {
          "base_uri": "https://localhost:8080/",
          "height": 115
        }
      },
      "execution_count": 69,
      "outputs": [
        {
          "output_type": "execute_result",
          "data": {
            "text/plain": [
              "emails    object\n",
              "dtype: object"
            ],
            "text/html": [
              "<div>\n",
              "<style scoped>\n",
              "    .dataframe tbody tr th:only-of-type {\n",
              "        vertical-align: middle;\n",
              "    }\n",
              "\n",
              "    .dataframe tbody tr th {\n",
              "        vertical-align: top;\n",
              "    }\n",
              "\n",
              "    .dataframe thead th {\n",
              "        text-align: right;\n",
              "    }\n",
              "</style>\n",
              "<table border=\"1\" class=\"dataframe\">\n",
              "  <thead>\n",
              "    <tr style=\"text-align: right;\">\n",
              "      <th></th>\n",
              "      <th>0</th>\n",
              "    </tr>\n",
              "  </thead>\n",
              "  <tbody>\n",
              "    <tr>\n",
              "      <th>emails</th>\n",
              "      <td>object</td>\n",
              "    </tr>\n",
              "  </tbody>\n",
              "</table>\n",
              "</div><br><label><b>dtype:</b> object</label>"
            ]
          },
          "metadata": {},
          "execution_count": 69
        }
      ]
    },
    {
      "cell_type": "code",
      "source": [
        "def extract_domain_mail(row):\n",
        "  return str(re.findall('@[^\\s]*', row.emails)[0])\n"
      ],
      "metadata": {
        "collapsed": true,
        "id": "qgD197AVpLNd"
      },
      "execution_count": 74,
      "outputs": []
    },
    {
      "cell_type": "code",
      "source": [
        "emails['dominio']= emails.apply(extract_domain_mail, axis=1)\n",
        "emails.dominio.value_counts()"
      ],
      "metadata": {
        "id": "dowlKQil2twY",
        "outputId": "c3975095-b686-4b39-c152-e81d14aad263",
        "colab": {
          "base_uri": "https://localhost:8080/",
          "height": 489
        }
      },
      "execution_count": 79,
      "outputs": [
        {
          "output_type": "execute_result",
          "data": {
            "text/plain": [
              "dominio\n",
              "@anonbox.net                      205\n",
              "@PutThisInYourSpamDatabase.com    204\n",
              "@mailnator.com                    203\n",
              "@spamcannon.net                   202\n",
              "@trashymail.net                   200\n",
              "                                 ... \n",
              "@mintemail.com                    136\n",
              "@mt2009.com                       136\n",
              "@litedrop.com                     136\n",
              "@2prong.com                       134\n",
              "@fastnissan.com                   129\n",
              "Name: count, Length: 481, dtype: int64"
            ],
            "text/html": [
              "<div>\n",
              "<style scoped>\n",
              "    .dataframe tbody tr th:only-of-type {\n",
              "        vertical-align: middle;\n",
              "    }\n",
              "\n",
              "    .dataframe tbody tr th {\n",
              "        vertical-align: top;\n",
              "    }\n",
              "\n",
              "    .dataframe thead th {\n",
              "        text-align: right;\n",
              "    }\n",
              "</style>\n",
              "<table border=\"1\" class=\"dataframe\">\n",
              "  <thead>\n",
              "    <tr style=\"text-align: right;\">\n",
              "      <th></th>\n",
              "      <th>count</th>\n",
              "    </tr>\n",
              "    <tr>\n",
              "      <th>dominio</th>\n",
              "      <th></th>\n",
              "    </tr>\n",
              "  </thead>\n",
              "  <tbody>\n",
              "    <tr>\n",
              "      <th>@anonbox.net</th>\n",
              "      <td>205</td>\n",
              "    </tr>\n",
              "    <tr>\n",
              "      <th>@PutThisInYourSpamDatabase.com</th>\n",
              "      <td>204</td>\n",
              "    </tr>\n",
              "    <tr>\n",
              "      <th>@mailnator.com</th>\n",
              "      <td>203</td>\n",
              "    </tr>\n",
              "    <tr>\n",
              "      <th>@spamcannon.net</th>\n",
              "      <td>202</td>\n",
              "    </tr>\n",
              "    <tr>\n",
              "      <th>@trashymail.net</th>\n",
              "      <td>200</td>\n",
              "    </tr>\n",
              "    <tr>\n",
              "      <th>...</th>\n",
              "      <td>...</td>\n",
              "    </tr>\n",
              "    <tr>\n",
              "      <th>@mintemail.com</th>\n",
              "      <td>136</td>\n",
              "    </tr>\n",
              "    <tr>\n",
              "      <th>@mt2009.com</th>\n",
              "      <td>136</td>\n",
              "    </tr>\n",
              "    <tr>\n",
              "      <th>@litedrop.com</th>\n",
              "      <td>136</td>\n",
              "    </tr>\n",
              "    <tr>\n",
              "      <th>@2prong.com</th>\n",
              "      <td>134</td>\n",
              "    </tr>\n",
              "    <tr>\n",
              "      <th>@fastnissan.com</th>\n",
              "      <td>129</td>\n",
              "    </tr>\n",
              "  </tbody>\n",
              "</table>\n",
              "<p>481 rows × 1 columns</p>\n",
              "</div><br><label><b>dtype:</b> int64</label>"
            ]
          },
          "metadata": {},
          "execution_count": 79
        }
      ]
    },
    {
      "cell_type": "markdown",
      "metadata": {
        "id": "ZtUOs826f9Ni"
      },
      "source": [
        "**3)** The file `ex-data/exp_nums.txt` contains 100 lines.  Each line contains a number in [E-notation](https://en.wikipedia.org/wiki/Scientific_notation#E-notation).  Convert each number to its decimal representation."
      ]
    },
    {
      "cell_type": "code",
      "source": [],
      "metadata": {
        "id": "pj8x4Nvy5Gve"
      },
      "execution_count": null,
      "outputs": []
    },
    {
      "cell_type": "markdown",
      "metadata": {
        "id": "jKND1Cjcf9Ni"
      },
      "source": [
        "4) [CamelCase](https://en.wikipedia.org/wiki/Camel_case) and [snake_case](https://en.wikipedia.org/wiki/Snake_case) two different ways to name variables.  Write a function (`camel_to_snake`) that converts a string in CamelCase to snake_case.\n"
      ]
    },
    {
      "cell_type": "code",
      "execution_count": null,
      "metadata": {
        "tags": [
          "show"
        ],
        "id": "ppLW50X3f9Ni"
      },
      "outputs": [],
      "source": [
        "def camel_to_snake(camelString):\n",
        "    snake_string = ''\n",
        "    # Do something\n",
        "    return snake_string"
      ]
    },
    {
      "cell_type": "code",
      "execution_count": null,
      "metadata": {
        "tags": [
          "show"
        ],
        "id": "SkeQAYyKf9Nj"
      },
      "outputs": [],
      "source": [
        "print(camel_to_snake('CamelCamelCamel'))\n",
        "# Must print camel_camel_camel"
      ]
    }
  ],
  "metadata": {
    "kernelspec": {
      "display_name": "Python 3 (ipykernel)",
      "language": "python",
      "name": "python3"
    },
    "language_info": {
      "codemirror_mode": {
        "name": "ipython",
        "version": 3
      },
      "file_extension": ".py",
      "mimetype": "text/x-python",
      "name": "python",
      "nbconvert_exporter": "python",
      "pygments_lexer": "ipython3",
      "version": "3.10.6"
    },
    "colab": {
      "provenance": []
    }
  },
  "nbformat": 4,
  "nbformat_minor": 0
}