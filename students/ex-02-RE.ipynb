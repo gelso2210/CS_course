{
  "cells": [
    {
      "cell_type": "markdown",
      "metadata": {
        "id": "aglRuP3tf9Nb"
      },
      "source": [
        "# Regular Expression\n",
        "\n",
        "![title](https://imgs.xkcd.com/comics/regular_expressions.png)\n",
        "\n",
        "A **regular expression** (RE) is a compact notation for representing a collection of strings.\n",
        "REs are defined using a mini-language different from Python and are used to search and substitute patterns and to parse, split, and validate strings.\n",
        "\n",
        "In Python, REs and REs functionalities are defined in the `re` module."
      ]
    },
    {
      "cell_type": "markdown",
      "metadata": {
        "id": "MXmMI1D2f9Ne"
      },
      "source": [
        "The most common task with REs is to search a given pattern in a string.\n",
        "Let's start with searching a single character in a string."
      ]
    },
    {
      "cell_type": "markdown",
      "metadata": {
        "id": "wfdM7BQmf9Ne"
      },
      "source": [
        "`re.search` returns a [Match object](https://docs.python.org/3/library/re.html#match-objects)."
      ]
    },
    {
      "cell_type": "markdown",
      "metadata": {
        "id": "58BZCQeqf9Ne"
      },
      "source": [
        "The Match object evaluates to `True` if the pattern appears in the string, otherwise it is `None`."
      ]
    },
    {
      "cell_type": "markdown",
      "metadata": {
        "id": "pOv0hBipf9Nf"
      },
      "source": [
        "The match object can be queried to retrieve the information about the match occurrence."
      ]
    },
    {
      "cell_type": "markdown",
      "metadata": {
        "id": "WxwPvVmff9Nf"
      },
      "source": [
        "## Basics of the RE langage\n",
        "\n",
        "In a RE every character matches itself except for the following characters.\n",
        "\n",
        "| Character | Meaning |\n",
        "|:--- | :--- |\n",
        "| ^ | Beginning of line |\n",
        "| $ | End of line |\n",
        "| * | Match 0+ times the previous character in RE |\n",
        "| + | Match 1+ times the previous character in RE |\n",
        "| ? | Match 0 or 1 times the previous character in RE |\n",
        "\n",
        "It is possible to match any of the character in the previous table by \"escaping\" it using `\\`.  For example, `\\+` matches the character `+`.\n",
        "\n",
        "Moreover, characters `[` and `]` are used to group together other characters in a character class.\n",
        "For example `[abcd]` means *\"any character between a, b, c and d\"*.\n",
        "`[abcd]` and `[a-d]` are the same character class.\n",
        "\n",
        "To match multiple patterns, group all the patterns between parentheses, and divide them using `|`.\n",
        "For example `(ab|ca|de)` matches `ab`, `ca`, and `de`.\n",
        "\n",
        "If `^` is inside a character class, it complements the elements inside the class.  This means that `[^a-d]` represents any character that is not a, b, c, nor d.\n",
        "\n",
        "For example, given the lyrics of this famous song"
      ]
    },
    {
      "cell_type": "markdown",
      "metadata": {
        "id": "4-7kr_zJf9Nf"
      },
      "source": [
        "If we want do something on all the verses but the chorus verses (\"La, la, la, la [...]\") we can use the following code snippets."
      ]
    },
    {
      "cell_type": "markdown",
      "metadata": {
        "id": "cDu56Exaf9Nf"
      },
      "source": [
        "## Character Class Shorthands\n",
        "\n",
        "Python also defines some metacharacters for common character classes.\n",
        "\n",
        "| Character | Meaning |\n",
        "|:--- | :--- |\n",
        "| `.` | Any character |\n",
        "| `\\d` | Any digit, equivalent to `[0-9]` |\n",
        "| `\\D` | Any nondigit, equivalent to `[^0-9] |\n",
        "| `\\s` | Any whitespace (`\\t`, `\\n`, ...) |\n",
        "| `\\S` | Any nonwhitespace |\n",
        "| `\\w` | Any word character, equivalent to `[a-zA-Z0-9_]` |\n",
        "| `\\W` | Any nonword character |\n",
        "\n",
        "## Quantifiers\n",
        "\n",
        "A quantifier appears after an expression of a RE and has the form `{m, n}` where `m` and `n` are the minimum and maximum times the expression the quantifier applies to must match.\n",
        "\n",
        "For example\n",
        "```python\n",
        "re.search('(bla){2,100}', 'blablabla')\n",
        "```\n",
        "will return a match whereas\n",
        "```python\n",
        "re.search('(bla){4,100}', 'blablabla')\n",
        "```\n",
        "won't."
      ]
    },
    {
      "cell_type": "markdown",
      "metadata": {
        "id": "4VwH4K2Lf9Ng"
      },
      "source": [
        "## Compiling REs\n",
        "\n",
        "Usually REs are applied over and over.\n",
        "To speed up the processing it is possible to *compile* the regular expression into a compiled regex object and use it as many times as we like.\n",
        "For example, we can rewrite one of the previous examples as follows."
      ]
    },
    {
      "cell_type": "markdown",
      "metadata": {
        "id": "UXmu-A6zf9Ng"
      },
      "source": [
        "## Compilation flags\n",
        "\n",
        "Compilation flags let you modify some aspects of how REs work and are passed as arguments to the `re.compile` function.\n",
        "The most important compilation flag for us will be `re.IGNORECASE` (also `re.I`) that enables to match RE in a case insensitive fashion.\n",
        "This means that a lowercase and uppercase character will be treated as the same element (i.e., there will be no distinction between `a` and `A`).\n",
        "For a more in-depth analysis of compilation flags please refer to the [documentation](https://docs.python.org/3.6/howto/regex.html#compilation-flags)."
      ]
    },
    {
      "cell_type": "markdown",
      "metadata": {
        "id": "XuwKXRHcf9Ng"
      },
      "source": [
        "# RE functions\n",
        "\n",
        "For now we only used the `re.search` function but there are many more.\n",
        "The following table summarizes the most important functions.\n",
        "\n",
        "| Function | Description |\n",
        "|:--- |:--- |\n",
        "| [`re.findall(string)`](https://docs.python.org/3/library/re.html#re.Pattern.findall) | Returns all nonoverlapping matches of the RE (as a list of strings) |\n",
        "| [`re.match(string)`](https://docs.python.org/3/library/re.html#re.Pattern.match) | Returns a match object if the RE matches *at the start* of the string |\n",
        "| [`re.search(string)`](https://docs.python.org/3/library/re.html#re.Pattern.search) | Returns a match object if the RE matches anywhere in the string |\n",
        "| [`re.split(string)`](https://docs.python.org/3/library/re.html#re.Pattern.split) | Returns the list of strings that results from splitting string s on every occurrence of the RE |\n",
        "| [`re.sub(repl, string)`](https://docs.python.org/3/library/re.html#re.Pattern.sub) | Returns a coput of the string with every match of the RE replaced by `repl` |"
      ]
    },
    {
      "cell_type": "markdown",
      "metadata": {
        "id": "mkC0MvKLf9Ng"
      },
      "source": [
        "## Grouping\n",
        "\n",
        "Frequently you need to obtain more information than just whether the RE matched or not. Regular expressions are often used to dissect strings by writing a RE divided into several subgroups which match different components of interest [(see this linki)](https://docs.python.org/3/howto/regex.html#grouping).\n",
        "You can access the groups by using the `group()` method of the match.\n",
        "\n",
        "For example"
      ]
    },
    {
      "cell_type": "markdown",
      "metadata": {
        "id": "f5ZitqYjf9Nh"
      },
      "source": [
        "## Named groups\n",
        "\n",
        "Accessing groups by their position in the match is most of the times tedious.\n",
        "Python introduces **named group** to refer to each group using a key.\n",
        "The sytax for a named group is `(?P<key>*expression*)` were `<key>` is the key used and `*expression*` is the RE we're looking for."
      ]
    },
    {
      "cell_type": "markdown",
      "metadata": {
        "id": "MT-paF_Qf9Nh"
      },
      "source": [
        "## Backreferences\n",
        "\n",
        "Backreferences in a pattern allow you to specify that the contents of an earlier capturing group must also be found at the current location in the string. For example, `\\1` will succeed if the exact contents of group 1 can be found at the current position, and fails otherwise.\n",
        "\n",
        "Backreferences are usueful in many operations; for example if we want to detect doubled words in a string the following RE will suffice."
      ]
    },
    {
      "cell_type": "markdown",
      "metadata": {
        "id": "xoFm0kh4f9Nh"
      },
      "source": [
        "We can also use backreferences to remove doubled words from a sentence."
      ]
    },
    {
      "cell_type": "markdown",
      "metadata": {
        "id": "pv1S1ORaf9Nh"
      },
      "source": [
        "Note that this RE only works for non-overlapping matches!"
      ]
    },
    {
      "cell_type": "markdown",
      "metadata": {
        "id": "oUeFDlSuf9Nh"
      },
      "source": [
        "# Exercises\n",
        "\n",
        "\n"
      ]
    },
    {
      "cell_type": "markdown",
      "metadata": {
        "id": "Tsz3VAACf9Ni"
      },
      "source": [
        "**1)** The file `ex-data/numbers.txt` contains 10000 lines.  Each line contains either a number or a string, find how many even number are in the file."
      ]
    },
    {
      "cell_type": "code",
      "source": [
        "import pandas as pd\n",
        "import regex as re\n",
        "\n",
        "number= pd.read_csv('https://raw.githubusercontent.com/gdv/foundationsCS/main/students/ex-data/numbers.txt', header=None)\n",
        "number.columns = ['numbers']\n",
        "number.head(20)\n",
        "number.dtypes"
      ],
      "metadata": {
        "collapsed": true,
        "id": "DvOCaHPpgsNe",
        "outputId": "ead333fb-a790-44ec-ddf5-4caf0379e2aa",
        "colab": {
          "base_uri": "https://localhost:8080/",
          "height": 115
        }
      },
      "execution_count": null,
      "outputs": [
        {
          "output_type": "execute_result",
          "data": {
            "text/plain": [
              "numbers    object\n",
              "dtype: object"
            ],
            "text/html": [
              "<div>\n",
              "<style scoped>\n",
              "    .dataframe tbody tr th:only-of-type {\n",
              "        vertical-align: middle;\n",
              "    }\n",
              "\n",
              "    .dataframe tbody tr th {\n",
              "        vertical-align: top;\n",
              "    }\n",
              "\n",
              "    .dataframe thead th {\n",
              "        text-align: right;\n",
              "    }\n",
              "</style>\n",
              "<table border=\"1\" class=\"dataframe\">\n",
              "  <thead>\n",
              "    <tr style=\"text-align: right;\">\n",
              "      <th></th>\n",
              "      <th>0</th>\n",
              "    </tr>\n",
              "  </thead>\n",
              "  <tbody>\n",
              "    <tr>\n",
              "      <th>numbers</th>\n",
              "      <td>object</td>\n",
              "    </tr>\n",
              "  </tbody>\n",
              "</table>\n",
              "</div><br><label><b>dtype:</b> object</label>"
            ]
          },
          "metadata": {},
          "execution_count": 2
        }
      ]
    },
    {
      "cell_type": "code",
      "source": [
        "def is_number_even(row):\n",
        "  if re.match('\\d+', row.numbers):\n",
        "    if int(row.numbers) % 2 == 0:\n",
        "      return True\n",
        "    else:\n",
        "      return False\n",
        "  else:\n",
        "    return False\n",
        "\n",
        "number.apply(is_number_even, axis=1).sum()"
      ],
      "metadata": {
        "id": "rm4jCvhMhfUp",
        "outputId": "548e2b95-94d0-448b-a0f0-b2b679149099",
        "colab": {
          "base_uri": "https://localhost:8080/"
        }
      },
      "execution_count": null,
      "outputs": [
        {
          "output_type": "execute_result",
          "data": {
            "text/plain": [
              "4789"
            ]
          },
          "metadata": {},
          "execution_count": 26
        }
      ]
    },
    {
      "cell_type": "markdown",
      "metadata": {
        "id": "_jaPxAEvf9Ni"
      },
      "source": [
        "**2)** The file `ex-data/email.txt` contains 80000 lines.\n",
        "Each line might begin with some whitespaces (>=0), is followed by an email address, a number (>0) of spaces, and an age.\n",
        "Each email address is composed as follows:\n",
        "* a name\n",
        "* a separation character (either `.`, `_`, or `!`)\n",
        "* a surname\n",
        "* an optional integer number\n",
        "* a @ symbol\n",
        "* a domain\n",
        "\n",
        "Using REs and the concepts from previous lessons, find how many times each domain was used.\n",
        "\n",
        "Examples of possible lines in the file:\n",
        "```\n",
        "     riva!menist57@bofthew.com   70\n",
        "         Brittan_Knorr69@tyldd.com            42\n",
        "         Cammy_Shawcroft@antichef.net           28\n",
        "Lizzie!woolford@dispostable.com 75\n",
        "Lurette_beachel@fakeinbox.com           48\n",
        "      moria.ivery54@twinmail.de          64\n",
        "          luciana.Leclaire48@gowikibooks.com       50\n",
        "```"
      ]
    },
    {
      "cell_type": "code",
      "source": [
        "emails= pd.read_csv('https://raw.githubusercontent.com/gdv/foundationsCS/main/students/ex-data/email.txt', header=None)\n",
        "emails.columns = ['emails']\n",
        "emails.head(20)\n",
        "emails.dtypes"
      ],
      "metadata": {
        "id": "3_wX4vMMpAnl",
        "outputId": "b6426f93-75f3-4c21-b2e2-f99bb40b249a",
        "colab": {
          "base_uri": "https://localhost:8080/",
          "height": 115
        }
      },
      "execution_count": null,
      "outputs": [
        {
          "output_type": "execute_result",
          "data": {
            "text/plain": [
              "emails    object\n",
              "dtype: object"
            ],
            "text/html": [
              "<div>\n",
              "<style scoped>\n",
              "    .dataframe tbody tr th:only-of-type {\n",
              "        vertical-align: middle;\n",
              "    }\n",
              "\n",
              "    .dataframe tbody tr th {\n",
              "        vertical-align: top;\n",
              "    }\n",
              "\n",
              "    .dataframe thead th {\n",
              "        text-align: right;\n",
              "    }\n",
              "</style>\n",
              "<table border=\"1\" class=\"dataframe\">\n",
              "  <thead>\n",
              "    <tr style=\"text-align: right;\">\n",
              "      <th></th>\n",
              "      <th>0</th>\n",
              "    </tr>\n",
              "  </thead>\n",
              "  <tbody>\n",
              "    <tr>\n",
              "      <th>emails</th>\n",
              "      <td>object</td>\n",
              "    </tr>\n",
              "  </tbody>\n",
              "</table>\n",
              "</div><br><label><b>dtype:</b> object</label>"
            ]
          },
          "metadata": {},
          "execution_count": 69
        }
      ]
    },
    {
      "cell_type": "code",
      "source": [
        "def extract_domain_mail(row):\n",
        "  return str(re.findall('@[^\\s]*', row.emails)[0])\n"
      ],
      "metadata": {
        "collapsed": true,
        "id": "qgD197AVpLNd"
      },
      "execution_count": null,
      "outputs": []
    },
    {
      "cell_type": "code",
      "source": [
        "emails['dominio']= emails.apply(extract_domain_mail, axis=1)\n",
        "emails.dominio.value_counts()"
      ],
      "metadata": {
        "id": "dowlKQil2twY",
        "outputId": "c3975095-b686-4b39-c152-e81d14aad263",
        "colab": {
          "base_uri": "https://localhost:8080/",
          "height": 489
        }
      },
      "execution_count": null,
      "outputs": [
        {
          "output_type": "execute_result",
          "data": {
            "text/plain": [
              "dominio\n",
              "@anonbox.net                      205\n",
              "@PutThisInYourSpamDatabase.com    204\n",
              "@mailnator.com                    203\n",
              "@spamcannon.net                   202\n",
              "@trashymail.net                   200\n",
              "                                 ... \n",
              "@mintemail.com                    136\n",
              "@mt2009.com                       136\n",
              "@litedrop.com                     136\n",
              "@2prong.com                       134\n",
              "@fastnissan.com                   129\n",
              "Name: count, Length: 481, dtype: int64"
            ],
            "text/html": [
              "<div>\n",
              "<style scoped>\n",
              "    .dataframe tbody tr th:only-of-type {\n",
              "        vertical-align: middle;\n",
              "    }\n",
              "\n",
              "    .dataframe tbody tr th {\n",
              "        vertical-align: top;\n",
              "    }\n",
              "\n",
              "    .dataframe thead th {\n",
              "        text-align: right;\n",
              "    }\n",
              "</style>\n",
              "<table border=\"1\" class=\"dataframe\">\n",
              "  <thead>\n",
              "    <tr style=\"text-align: right;\">\n",
              "      <th></th>\n",
              "      <th>count</th>\n",
              "    </tr>\n",
              "    <tr>\n",
              "      <th>dominio</th>\n",
              "      <th></th>\n",
              "    </tr>\n",
              "  </thead>\n",
              "  <tbody>\n",
              "    <tr>\n",
              "      <th>@anonbox.net</th>\n",
              "      <td>205</td>\n",
              "    </tr>\n",
              "    <tr>\n",
              "      <th>@PutThisInYourSpamDatabase.com</th>\n",
              "      <td>204</td>\n",
              "    </tr>\n",
              "    <tr>\n",
              "      <th>@mailnator.com</th>\n",
              "      <td>203</td>\n",
              "    </tr>\n",
              "    <tr>\n",
              "      <th>@spamcannon.net</th>\n",
              "      <td>202</td>\n",
              "    </tr>\n",
              "    <tr>\n",
              "      <th>@trashymail.net</th>\n",
              "      <td>200</td>\n",
              "    </tr>\n",
              "    <tr>\n",
              "      <th>...</th>\n",
              "      <td>...</td>\n",
              "    </tr>\n",
              "    <tr>\n",
              "      <th>@mintemail.com</th>\n",
              "      <td>136</td>\n",
              "    </tr>\n",
              "    <tr>\n",
              "      <th>@mt2009.com</th>\n",
              "      <td>136</td>\n",
              "    </tr>\n",
              "    <tr>\n",
              "      <th>@litedrop.com</th>\n",
              "      <td>136</td>\n",
              "    </tr>\n",
              "    <tr>\n",
              "      <th>@2prong.com</th>\n",
              "      <td>134</td>\n",
              "    </tr>\n",
              "    <tr>\n",
              "      <th>@fastnissan.com</th>\n",
              "      <td>129</td>\n",
              "    </tr>\n",
              "  </tbody>\n",
              "</table>\n",
              "<p>481 rows × 1 columns</p>\n",
              "</div><br><label><b>dtype:</b> int64</label>"
            ]
          },
          "metadata": {},
          "execution_count": 79
        }
      ]
    },
    {
      "cell_type": "markdown",
      "metadata": {
        "id": "ZtUOs826f9Ni"
      },
      "source": [
        "**3)** The file `ex-data/exp_nums.txt` contains 100 lines.  Each line contains a number in [E-notation](https://en.wikipedia.org/wiki/Scientific_notation#E-notation).  Convert each number to its decimal representation."
      ]
    },
    {
      "cell_type": "code",
      "source": [
        "enum= pd.read_csv('https://raw.githubusercontent.com/gdv/foundationsCS/main/students/ex-data/exp_nums.txt', header=None, dtype='str')\n",
        "enum.columns = ['numbers']\n",
        "enum.head(20)"
      ],
      "metadata": {
        "id": "pj8x4Nvy5Gve",
        "collapsed": true,
        "outputId": "4e8abebc-8c6f-4717-8cdf-d98bb73501c4",
        "colab": {
          "base_uri": "https://localhost:8080/",
          "height": 676
        }
      },
      "execution_count": null,
      "outputs": [
        {
          "output_type": "execute_result",
          "data": {
            "text/plain": [
              "       numbers\n",
              "0    2.19925e5\n",
              "1    2.98685e3\n",
              "2    1.40469e2\n",
              "3    2.75051e7\n",
              "4    3.37623e3\n",
              "5    2.62878e4\n",
              "6    1.24722e2\n",
              "7    3.69233e4\n",
              "8     2.5466e2\n",
              "9    3.77231e2\n",
              "10   1.55855e4\n",
              "11   2.64698e3\n",
              "12   3.19381e3\n",
              "13   2.77834e6\n",
              "14   3.86588e7\n",
              "15  3.80454e-1\n",
              "16  3.34377e-1\n",
              "17   2.28575e7\n",
              "18   2.17343e6\n",
              "19   1.53285e7"
            ],
            "text/html": [
              "\n",
              "  <div id=\"df-ccae3a07-2685-4f97-9f4d-fede756027b2\" class=\"colab-df-container\">\n",
              "    <div>\n",
              "<style scoped>\n",
              "    .dataframe tbody tr th:only-of-type {\n",
              "        vertical-align: middle;\n",
              "    }\n",
              "\n",
              "    .dataframe tbody tr th {\n",
              "        vertical-align: top;\n",
              "    }\n",
              "\n",
              "    .dataframe thead th {\n",
              "        text-align: right;\n",
              "    }\n",
              "</style>\n",
              "<table border=\"1\" class=\"dataframe\">\n",
              "  <thead>\n",
              "    <tr style=\"text-align: right;\">\n",
              "      <th></th>\n",
              "      <th>numbers</th>\n",
              "    </tr>\n",
              "  </thead>\n",
              "  <tbody>\n",
              "    <tr>\n",
              "      <th>0</th>\n",
              "      <td>2.19925e5</td>\n",
              "    </tr>\n",
              "    <tr>\n",
              "      <th>1</th>\n",
              "      <td>2.98685e3</td>\n",
              "    </tr>\n",
              "    <tr>\n",
              "      <th>2</th>\n",
              "      <td>1.40469e2</td>\n",
              "    </tr>\n",
              "    <tr>\n",
              "      <th>3</th>\n",
              "      <td>2.75051e7</td>\n",
              "    </tr>\n",
              "    <tr>\n",
              "      <th>4</th>\n",
              "      <td>3.37623e3</td>\n",
              "    </tr>\n",
              "    <tr>\n",
              "      <th>5</th>\n",
              "      <td>2.62878e4</td>\n",
              "    </tr>\n",
              "    <tr>\n",
              "      <th>6</th>\n",
              "      <td>1.24722e2</td>\n",
              "    </tr>\n",
              "    <tr>\n",
              "      <th>7</th>\n",
              "      <td>3.69233e4</td>\n",
              "    </tr>\n",
              "    <tr>\n",
              "      <th>8</th>\n",
              "      <td>2.5466e2</td>\n",
              "    </tr>\n",
              "    <tr>\n",
              "      <th>9</th>\n",
              "      <td>3.77231e2</td>\n",
              "    </tr>\n",
              "    <tr>\n",
              "      <th>10</th>\n",
              "      <td>1.55855e4</td>\n",
              "    </tr>\n",
              "    <tr>\n",
              "      <th>11</th>\n",
              "      <td>2.64698e3</td>\n",
              "    </tr>\n",
              "    <tr>\n",
              "      <th>12</th>\n",
              "      <td>3.19381e3</td>\n",
              "    </tr>\n",
              "    <tr>\n",
              "      <th>13</th>\n",
              "      <td>2.77834e6</td>\n",
              "    </tr>\n",
              "    <tr>\n",
              "      <th>14</th>\n",
              "      <td>3.86588e7</td>\n",
              "    </tr>\n",
              "    <tr>\n",
              "      <th>15</th>\n",
              "      <td>3.80454e-1</td>\n",
              "    </tr>\n",
              "    <tr>\n",
              "      <th>16</th>\n",
              "      <td>3.34377e-1</td>\n",
              "    </tr>\n",
              "    <tr>\n",
              "      <th>17</th>\n",
              "      <td>2.28575e7</td>\n",
              "    </tr>\n",
              "    <tr>\n",
              "      <th>18</th>\n",
              "      <td>2.17343e6</td>\n",
              "    </tr>\n",
              "    <tr>\n",
              "      <th>19</th>\n",
              "      <td>1.53285e7</td>\n",
              "    </tr>\n",
              "  </tbody>\n",
              "</table>\n",
              "</div>\n",
              "    <div class=\"colab-df-buttons\">\n",
              "\n",
              "  <div class=\"colab-df-container\">\n",
              "    <button class=\"colab-df-convert\" onclick=\"convertToInteractive('df-ccae3a07-2685-4f97-9f4d-fede756027b2')\"\n",
              "            title=\"Convert this dataframe to an interactive table.\"\n",
              "            style=\"display:none;\">\n",
              "\n",
              "  <svg xmlns=\"http://www.w3.org/2000/svg\" height=\"24px\" viewBox=\"0 -960 960 960\">\n",
              "    <path d=\"M120-120v-720h720v720H120Zm60-500h600v-160H180v160Zm220 220h160v-160H400v160Zm0 220h160v-160H400v160ZM180-400h160v-160H180v160Zm440 0h160v-160H620v160ZM180-180h160v-160H180v160Zm440 0h160v-160H620v160Z\"/>\n",
              "  </svg>\n",
              "    </button>\n",
              "\n",
              "  <style>\n",
              "    .colab-df-container {\n",
              "      display:flex;\n",
              "      gap: 12px;\n",
              "    }\n",
              "\n",
              "    .colab-df-convert {\n",
              "      background-color: #E8F0FE;\n",
              "      border: none;\n",
              "      border-radius: 50%;\n",
              "      cursor: pointer;\n",
              "      display: none;\n",
              "      fill: #1967D2;\n",
              "      height: 32px;\n",
              "      padding: 0 0 0 0;\n",
              "      width: 32px;\n",
              "    }\n",
              "\n",
              "    .colab-df-convert:hover {\n",
              "      background-color: #E2EBFA;\n",
              "      box-shadow: 0px 1px 2px rgba(60, 64, 67, 0.3), 0px 1px 3px 1px rgba(60, 64, 67, 0.15);\n",
              "      fill: #174EA6;\n",
              "    }\n",
              "\n",
              "    .colab-df-buttons div {\n",
              "      margin-bottom: 4px;\n",
              "    }\n",
              "\n",
              "    [theme=dark] .colab-df-convert {\n",
              "      background-color: #3B4455;\n",
              "      fill: #D2E3FC;\n",
              "    }\n",
              "\n",
              "    [theme=dark] .colab-df-convert:hover {\n",
              "      background-color: #434B5C;\n",
              "      box-shadow: 0px 1px 3px 1px rgba(0, 0, 0, 0.15);\n",
              "      filter: drop-shadow(0px 1px 2px rgba(0, 0, 0, 0.3));\n",
              "      fill: #FFFFFF;\n",
              "    }\n",
              "  </style>\n",
              "\n",
              "    <script>\n",
              "      const buttonEl =\n",
              "        document.querySelector('#df-ccae3a07-2685-4f97-9f4d-fede756027b2 button.colab-df-convert');\n",
              "      buttonEl.style.display =\n",
              "        google.colab.kernel.accessAllowed ? 'block' : 'none';\n",
              "\n",
              "      async function convertToInteractive(key) {\n",
              "        const element = document.querySelector('#df-ccae3a07-2685-4f97-9f4d-fede756027b2');\n",
              "        const dataTable =\n",
              "          await google.colab.kernel.invokeFunction('convertToInteractive',\n",
              "                                                    [key], {});\n",
              "        if (!dataTable) return;\n",
              "\n",
              "        const docLinkHtml = 'Like what you see? Visit the ' +\n",
              "          '<a target=\"_blank\" href=https://colab.research.google.com/notebooks/data_table.ipynb>data table notebook</a>'\n",
              "          + ' to learn more about interactive tables.';\n",
              "        element.innerHTML = '';\n",
              "        dataTable['output_type'] = 'display_data';\n",
              "        await google.colab.output.renderOutput(dataTable, element);\n",
              "        const docLink = document.createElement('div');\n",
              "        docLink.innerHTML = docLinkHtml;\n",
              "        element.appendChild(docLink);\n",
              "      }\n",
              "    </script>\n",
              "  </div>\n",
              "\n",
              "\n",
              "<div id=\"df-197bcf47-dd6e-41d9-abee-a10031190476\">\n",
              "  <button class=\"colab-df-quickchart\" onclick=\"quickchart('df-197bcf47-dd6e-41d9-abee-a10031190476')\"\n",
              "            title=\"Suggest charts\"\n",
              "            style=\"display:none;\">\n",
              "\n",
              "<svg xmlns=\"http://www.w3.org/2000/svg\" height=\"24px\"viewBox=\"0 0 24 24\"\n",
              "     width=\"24px\">\n",
              "    <g>\n",
              "        <path d=\"M19 3H5c-1.1 0-2 .9-2 2v14c0 1.1.9 2 2 2h14c1.1 0 2-.9 2-2V5c0-1.1-.9-2-2-2zM9 17H7v-7h2v7zm4 0h-2V7h2v10zm4 0h-2v-4h2v4z\"/>\n",
              "    </g>\n",
              "</svg>\n",
              "  </button>\n",
              "\n",
              "<style>\n",
              "  .colab-df-quickchart {\n",
              "      --bg-color: #E8F0FE;\n",
              "      --fill-color: #1967D2;\n",
              "      --hover-bg-color: #E2EBFA;\n",
              "      --hover-fill-color: #174EA6;\n",
              "      --disabled-fill-color: #AAA;\n",
              "      --disabled-bg-color: #DDD;\n",
              "  }\n",
              "\n",
              "  [theme=dark] .colab-df-quickchart {\n",
              "      --bg-color: #3B4455;\n",
              "      --fill-color: #D2E3FC;\n",
              "      --hover-bg-color: #434B5C;\n",
              "      --hover-fill-color: #FFFFFF;\n",
              "      --disabled-bg-color: #3B4455;\n",
              "      --disabled-fill-color: #666;\n",
              "  }\n",
              "\n",
              "  .colab-df-quickchart {\n",
              "    background-color: var(--bg-color);\n",
              "    border: none;\n",
              "    border-radius: 50%;\n",
              "    cursor: pointer;\n",
              "    display: none;\n",
              "    fill: var(--fill-color);\n",
              "    height: 32px;\n",
              "    padding: 0;\n",
              "    width: 32px;\n",
              "  }\n",
              "\n",
              "  .colab-df-quickchart:hover {\n",
              "    background-color: var(--hover-bg-color);\n",
              "    box-shadow: 0 1px 2px rgba(60, 64, 67, 0.3), 0 1px 3px 1px rgba(60, 64, 67, 0.15);\n",
              "    fill: var(--button-hover-fill-color);\n",
              "  }\n",
              "\n",
              "  .colab-df-quickchart-complete:disabled,\n",
              "  .colab-df-quickchart-complete:disabled:hover {\n",
              "    background-color: var(--disabled-bg-color);\n",
              "    fill: var(--disabled-fill-color);\n",
              "    box-shadow: none;\n",
              "  }\n",
              "\n",
              "  .colab-df-spinner {\n",
              "    border: 2px solid var(--fill-color);\n",
              "    border-color: transparent;\n",
              "    border-bottom-color: var(--fill-color);\n",
              "    animation:\n",
              "      spin 1s steps(1) infinite;\n",
              "  }\n",
              "\n",
              "  @keyframes spin {\n",
              "    0% {\n",
              "      border-color: transparent;\n",
              "      border-bottom-color: var(--fill-color);\n",
              "      border-left-color: var(--fill-color);\n",
              "    }\n",
              "    20% {\n",
              "      border-color: transparent;\n",
              "      border-left-color: var(--fill-color);\n",
              "      border-top-color: var(--fill-color);\n",
              "    }\n",
              "    30% {\n",
              "      border-color: transparent;\n",
              "      border-left-color: var(--fill-color);\n",
              "      border-top-color: var(--fill-color);\n",
              "      border-right-color: var(--fill-color);\n",
              "    }\n",
              "    40% {\n",
              "      border-color: transparent;\n",
              "      border-right-color: var(--fill-color);\n",
              "      border-top-color: var(--fill-color);\n",
              "    }\n",
              "    60% {\n",
              "      border-color: transparent;\n",
              "      border-right-color: var(--fill-color);\n",
              "    }\n",
              "    80% {\n",
              "      border-color: transparent;\n",
              "      border-right-color: var(--fill-color);\n",
              "      border-bottom-color: var(--fill-color);\n",
              "    }\n",
              "    90% {\n",
              "      border-color: transparent;\n",
              "      border-bottom-color: var(--fill-color);\n",
              "    }\n",
              "  }\n",
              "</style>\n",
              "\n",
              "  <script>\n",
              "    async function quickchart(key) {\n",
              "      const quickchartButtonEl =\n",
              "        document.querySelector('#' + key + ' button');\n",
              "      quickchartButtonEl.disabled = true;  // To prevent multiple clicks.\n",
              "      quickchartButtonEl.classList.add('colab-df-spinner');\n",
              "      try {\n",
              "        const charts = await google.colab.kernel.invokeFunction(\n",
              "            'suggestCharts', [key], {});\n",
              "      } catch (error) {\n",
              "        console.error('Error during call to suggestCharts:', error);\n",
              "      }\n",
              "      quickchartButtonEl.classList.remove('colab-df-spinner');\n",
              "      quickchartButtonEl.classList.add('colab-df-quickchart-complete');\n",
              "    }\n",
              "    (() => {\n",
              "      let quickchartButtonEl =\n",
              "        document.querySelector('#df-197bcf47-dd6e-41d9-abee-a10031190476 button');\n",
              "      quickchartButtonEl.style.display =\n",
              "        google.colab.kernel.accessAllowed ? 'block' : 'none';\n",
              "    })();\n",
              "  </script>\n",
              "</div>\n",
              "\n",
              "    </div>\n",
              "  </div>\n"
            ],
            "application/vnd.google.colaboratory.intrinsic+json": {
              "type": "dataframe",
              "variable_name": "enum",
              "summary": "{\n  \"name\": \"enum\",\n  \"rows\": 100,\n  \"fields\": [\n    {\n      \"column\": \"numbers\",\n      \"properties\": {\n        \"dtype\": \"string\",\n        \"num_unique_values\": 100,\n        \"samples\": [\n          \"3.0225e6\",\n          \"2.73213e7\",\n          \"2.22822e2\"\n        ],\n        \"semantic_type\": \"\",\n        \"description\": \"\"\n      }\n    }\n  ]\n}"
            }
          },
          "metadata": {},
          "execution_count": 10
        }
      ]
    },
    {
      "cell_type": "code",
      "source": [
        "pd.options.display.float_format = '{:.2f}'.format\n",
        "\n",
        "def convert_to_number(row):\n",
        "  split_decimale= re.split('e', row.numbers)\n",
        "  return float(split_decimale[0])*(10**int(split_decimale[1]))\n",
        "\n",
        "enum['converted']= enum.apply(convert_to_number, axis=1)"
      ],
      "metadata": {
        "id": "19KaCAmNDVut"
      },
      "execution_count": null,
      "outputs": []
    },
    {
      "cell_type": "code",
      "source": [
        "enum"
      ],
      "metadata": {
        "id": "cMI5BvehFPAV",
        "outputId": "689e01e5-a7a9-4c52-d156-401d85c897ce",
        "colab": {
          "base_uri": "https://localhost:8080/",
          "height": 423
        }
      },
      "execution_count": null,
      "outputs": [
        {
          "output_type": "execute_result",
          "data": {
            "text/plain": [
              "       numbers   converted\n",
              "0    2.19925e5   219925.00\n",
              "1    2.98685e3     2986.85\n",
              "2    1.40469e2      140.47\n",
              "3    2.75051e7 27505100.00\n",
              "4    3.37623e3     3376.23\n",
              "..         ...         ...\n",
              "95  1.25749e-2        0.01\n",
              "96   1.64834e1       16.48\n",
              "97   1.28032e4    12803.20\n",
              "98   3.95787e1       39.58\n",
              "99   2.70101e3     2701.01\n",
              "\n",
              "[100 rows x 2 columns]"
            ],
            "text/html": [
              "\n",
              "  <div id=\"df-4074396b-31fd-4e3d-86de-ab2a43489939\" class=\"colab-df-container\">\n",
              "    <div>\n",
              "<style scoped>\n",
              "    .dataframe tbody tr th:only-of-type {\n",
              "        vertical-align: middle;\n",
              "    }\n",
              "\n",
              "    .dataframe tbody tr th {\n",
              "        vertical-align: top;\n",
              "    }\n",
              "\n",
              "    .dataframe thead th {\n",
              "        text-align: right;\n",
              "    }\n",
              "</style>\n",
              "<table border=\"1\" class=\"dataframe\">\n",
              "  <thead>\n",
              "    <tr style=\"text-align: right;\">\n",
              "      <th></th>\n",
              "      <th>numbers</th>\n",
              "      <th>converted</th>\n",
              "    </tr>\n",
              "  </thead>\n",
              "  <tbody>\n",
              "    <tr>\n",
              "      <th>0</th>\n",
              "      <td>2.19925e5</td>\n",
              "      <td>219925.00</td>\n",
              "    </tr>\n",
              "    <tr>\n",
              "      <th>1</th>\n",
              "      <td>2.98685e3</td>\n",
              "      <td>2986.85</td>\n",
              "    </tr>\n",
              "    <tr>\n",
              "      <th>2</th>\n",
              "      <td>1.40469e2</td>\n",
              "      <td>140.47</td>\n",
              "    </tr>\n",
              "    <tr>\n",
              "      <th>3</th>\n",
              "      <td>2.75051e7</td>\n",
              "      <td>27505100.00</td>\n",
              "    </tr>\n",
              "    <tr>\n",
              "      <th>4</th>\n",
              "      <td>3.37623e3</td>\n",
              "      <td>3376.23</td>\n",
              "    </tr>\n",
              "    <tr>\n",
              "      <th>...</th>\n",
              "      <td>...</td>\n",
              "      <td>...</td>\n",
              "    </tr>\n",
              "    <tr>\n",
              "      <th>95</th>\n",
              "      <td>1.25749e-2</td>\n",
              "      <td>0.01</td>\n",
              "    </tr>\n",
              "    <tr>\n",
              "      <th>96</th>\n",
              "      <td>1.64834e1</td>\n",
              "      <td>16.48</td>\n",
              "    </tr>\n",
              "    <tr>\n",
              "      <th>97</th>\n",
              "      <td>1.28032e4</td>\n",
              "      <td>12803.20</td>\n",
              "    </tr>\n",
              "    <tr>\n",
              "      <th>98</th>\n",
              "      <td>3.95787e1</td>\n",
              "      <td>39.58</td>\n",
              "    </tr>\n",
              "    <tr>\n",
              "      <th>99</th>\n",
              "      <td>2.70101e3</td>\n",
              "      <td>2701.01</td>\n",
              "    </tr>\n",
              "  </tbody>\n",
              "</table>\n",
              "<p>100 rows × 2 columns</p>\n",
              "</div>\n",
              "    <div class=\"colab-df-buttons\">\n",
              "\n",
              "  <div class=\"colab-df-container\">\n",
              "    <button class=\"colab-df-convert\" onclick=\"convertToInteractive('df-4074396b-31fd-4e3d-86de-ab2a43489939')\"\n",
              "            title=\"Convert this dataframe to an interactive table.\"\n",
              "            style=\"display:none;\">\n",
              "\n",
              "  <svg xmlns=\"http://www.w3.org/2000/svg\" height=\"24px\" viewBox=\"0 -960 960 960\">\n",
              "    <path d=\"M120-120v-720h720v720H120Zm60-500h600v-160H180v160Zm220 220h160v-160H400v160Zm0 220h160v-160H400v160ZM180-400h160v-160H180v160Zm440 0h160v-160H620v160ZM180-180h160v-160H180v160Zm440 0h160v-160H620v160Z\"/>\n",
              "  </svg>\n",
              "    </button>\n",
              "\n",
              "  <style>\n",
              "    .colab-df-container {\n",
              "      display:flex;\n",
              "      gap: 12px;\n",
              "    }\n",
              "\n",
              "    .colab-df-convert {\n",
              "      background-color: #E8F0FE;\n",
              "      border: none;\n",
              "      border-radius: 50%;\n",
              "      cursor: pointer;\n",
              "      display: none;\n",
              "      fill: #1967D2;\n",
              "      height: 32px;\n",
              "      padding: 0 0 0 0;\n",
              "      width: 32px;\n",
              "    }\n",
              "\n",
              "    .colab-df-convert:hover {\n",
              "      background-color: #E2EBFA;\n",
              "      box-shadow: 0px 1px 2px rgba(60, 64, 67, 0.3), 0px 1px 3px 1px rgba(60, 64, 67, 0.15);\n",
              "      fill: #174EA6;\n",
              "    }\n",
              "\n",
              "    .colab-df-buttons div {\n",
              "      margin-bottom: 4px;\n",
              "    }\n",
              "\n",
              "    [theme=dark] .colab-df-convert {\n",
              "      background-color: #3B4455;\n",
              "      fill: #D2E3FC;\n",
              "    }\n",
              "\n",
              "    [theme=dark] .colab-df-convert:hover {\n",
              "      background-color: #434B5C;\n",
              "      box-shadow: 0px 1px 3px 1px rgba(0, 0, 0, 0.15);\n",
              "      filter: drop-shadow(0px 1px 2px rgba(0, 0, 0, 0.3));\n",
              "      fill: #FFFFFF;\n",
              "    }\n",
              "  </style>\n",
              "\n",
              "    <script>\n",
              "      const buttonEl =\n",
              "        document.querySelector('#df-4074396b-31fd-4e3d-86de-ab2a43489939 button.colab-df-convert');\n",
              "      buttonEl.style.display =\n",
              "        google.colab.kernel.accessAllowed ? 'block' : 'none';\n",
              "\n",
              "      async function convertToInteractive(key) {\n",
              "        const element = document.querySelector('#df-4074396b-31fd-4e3d-86de-ab2a43489939');\n",
              "        const dataTable =\n",
              "          await google.colab.kernel.invokeFunction('convertToInteractive',\n",
              "                                                    [key], {});\n",
              "        if (!dataTable) return;\n",
              "\n",
              "        const docLinkHtml = 'Like what you see? Visit the ' +\n",
              "          '<a target=\"_blank\" href=https://colab.research.google.com/notebooks/data_table.ipynb>data table notebook</a>'\n",
              "          + ' to learn more about interactive tables.';\n",
              "        element.innerHTML = '';\n",
              "        dataTable['output_type'] = 'display_data';\n",
              "        await google.colab.output.renderOutput(dataTable, element);\n",
              "        const docLink = document.createElement('div');\n",
              "        docLink.innerHTML = docLinkHtml;\n",
              "        element.appendChild(docLink);\n",
              "      }\n",
              "    </script>\n",
              "  </div>\n",
              "\n",
              "\n",
              "<div id=\"df-c63f9066-ce8d-41c6-be61-d405209d6699\">\n",
              "  <button class=\"colab-df-quickchart\" onclick=\"quickchart('df-c63f9066-ce8d-41c6-be61-d405209d6699')\"\n",
              "            title=\"Suggest charts\"\n",
              "            style=\"display:none;\">\n",
              "\n",
              "<svg xmlns=\"http://www.w3.org/2000/svg\" height=\"24px\"viewBox=\"0 0 24 24\"\n",
              "     width=\"24px\">\n",
              "    <g>\n",
              "        <path d=\"M19 3H5c-1.1 0-2 .9-2 2v14c0 1.1.9 2 2 2h14c1.1 0 2-.9 2-2V5c0-1.1-.9-2-2-2zM9 17H7v-7h2v7zm4 0h-2V7h2v10zm4 0h-2v-4h2v4z\"/>\n",
              "    </g>\n",
              "</svg>\n",
              "  </button>\n",
              "\n",
              "<style>\n",
              "  .colab-df-quickchart {\n",
              "      --bg-color: #E8F0FE;\n",
              "      --fill-color: #1967D2;\n",
              "      --hover-bg-color: #E2EBFA;\n",
              "      --hover-fill-color: #174EA6;\n",
              "      --disabled-fill-color: #AAA;\n",
              "      --disabled-bg-color: #DDD;\n",
              "  }\n",
              "\n",
              "  [theme=dark] .colab-df-quickchart {\n",
              "      --bg-color: #3B4455;\n",
              "      --fill-color: #D2E3FC;\n",
              "      --hover-bg-color: #434B5C;\n",
              "      --hover-fill-color: #FFFFFF;\n",
              "      --disabled-bg-color: #3B4455;\n",
              "      --disabled-fill-color: #666;\n",
              "  }\n",
              "\n",
              "  .colab-df-quickchart {\n",
              "    background-color: var(--bg-color);\n",
              "    border: none;\n",
              "    border-radius: 50%;\n",
              "    cursor: pointer;\n",
              "    display: none;\n",
              "    fill: var(--fill-color);\n",
              "    height: 32px;\n",
              "    padding: 0;\n",
              "    width: 32px;\n",
              "  }\n",
              "\n",
              "  .colab-df-quickchart:hover {\n",
              "    background-color: var(--hover-bg-color);\n",
              "    box-shadow: 0 1px 2px rgba(60, 64, 67, 0.3), 0 1px 3px 1px rgba(60, 64, 67, 0.15);\n",
              "    fill: var(--button-hover-fill-color);\n",
              "  }\n",
              "\n",
              "  .colab-df-quickchart-complete:disabled,\n",
              "  .colab-df-quickchart-complete:disabled:hover {\n",
              "    background-color: var(--disabled-bg-color);\n",
              "    fill: var(--disabled-fill-color);\n",
              "    box-shadow: none;\n",
              "  }\n",
              "\n",
              "  .colab-df-spinner {\n",
              "    border: 2px solid var(--fill-color);\n",
              "    border-color: transparent;\n",
              "    border-bottom-color: var(--fill-color);\n",
              "    animation:\n",
              "      spin 1s steps(1) infinite;\n",
              "  }\n",
              "\n",
              "  @keyframes spin {\n",
              "    0% {\n",
              "      border-color: transparent;\n",
              "      border-bottom-color: var(--fill-color);\n",
              "      border-left-color: var(--fill-color);\n",
              "    }\n",
              "    20% {\n",
              "      border-color: transparent;\n",
              "      border-left-color: var(--fill-color);\n",
              "      border-top-color: var(--fill-color);\n",
              "    }\n",
              "    30% {\n",
              "      border-color: transparent;\n",
              "      border-left-color: var(--fill-color);\n",
              "      border-top-color: var(--fill-color);\n",
              "      border-right-color: var(--fill-color);\n",
              "    }\n",
              "    40% {\n",
              "      border-color: transparent;\n",
              "      border-right-color: var(--fill-color);\n",
              "      border-top-color: var(--fill-color);\n",
              "    }\n",
              "    60% {\n",
              "      border-color: transparent;\n",
              "      border-right-color: var(--fill-color);\n",
              "    }\n",
              "    80% {\n",
              "      border-color: transparent;\n",
              "      border-right-color: var(--fill-color);\n",
              "      border-bottom-color: var(--fill-color);\n",
              "    }\n",
              "    90% {\n",
              "      border-color: transparent;\n",
              "      border-bottom-color: var(--fill-color);\n",
              "    }\n",
              "  }\n",
              "</style>\n",
              "\n",
              "  <script>\n",
              "    async function quickchart(key) {\n",
              "      const quickchartButtonEl =\n",
              "        document.querySelector('#' + key + ' button');\n",
              "      quickchartButtonEl.disabled = true;  // To prevent multiple clicks.\n",
              "      quickchartButtonEl.classList.add('colab-df-spinner');\n",
              "      try {\n",
              "        const charts = await google.colab.kernel.invokeFunction(\n",
              "            'suggestCharts', [key], {});\n",
              "      } catch (error) {\n",
              "        console.error('Error during call to suggestCharts:', error);\n",
              "      }\n",
              "      quickchartButtonEl.classList.remove('colab-df-spinner');\n",
              "      quickchartButtonEl.classList.add('colab-df-quickchart-complete');\n",
              "    }\n",
              "    (() => {\n",
              "      let quickchartButtonEl =\n",
              "        document.querySelector('#df-c63f9066-ce8d-41c6-be61-d405209d6699 button');\n",
              "      quickchartButtonEl.style.display =\n",
              "        google.colab.kernel.accessAllowed ? 'block' : 'none';\n",
              "    })();\n",
              "  </script>\n",
              "</div>\n",
              "\n",
              "  <div id=\"id_0edf73df-ae3b-4b52-bb65-a3a6865d8862\">\n",
              "    <style>\n",
              "      .colab-df-generate {\n",
              "        background-color: #E8F0FE;\n",
              "        border: none;\n",
              "        border-radius: 50%;\n",
              "        cursor: pointer;\n",
              "        display: none;\n",
              "        fill: #1967D2;\n",
              "        height: 32px;\n",
              "        padding: 0 0 0 0;\n",
              "        width: 32px;\n",
              "      }\n",
              "\n",
              "      .colab-df-generate:hover {\n",
              "        background-color: #E2EBFA;\n",
              "        box-shadow: 0px 1px 2px rgba(60, 64, 67, 0.3), 0px 1px 3px 1px rgba(60, 64, 67, 0.15);\n",
              "        fill: #174EA6;\n",
              "      }\n",
              "\n",
              "      [theme=dark] .colab-df-generate {\n",
              "        background-color: #3B4455;\n",
              "        fill: #D2E3FC;\n",
              "      }\n",
              "\n",
              "      [theme=dark] .colab-df-generate:hover {\n",
              "        background-color: #434B5C;\n",
              "        box-shadow: 0px 1px 3px 1px rgba(0, 0, 0, 0.15);\n",
              "        filter: drop-shadow(0px 1px 2px rgba(0, 0, 0, 0.3));\n",
              "        fill: #FFFFFF;\n",
              "      }\n",
              "    </style>\n",
              "    <button class=\"colab-df-generate\" onclick=\"generateWithVariable('enum')\"\n",
              "            title=\"Generate code using this dataframe.\"\n",
              "            style=\"display:none;\">\n",
              "\n",
              "  <svg xmlns=\"http://www.w3.org/2000/svg\" height=\"24px\"viewBox=\"0 0 24 24\"\n",
              "       width=\"24px\">\n",
              "    <path d=\"M7,19H8.4L18.45,9,17,7.55,7,17.6ZM5,21V16.75L18.45,3.32a2,2,0,0,1,2.83,0l1.4,1.43a1.91,1.91,0,0,1,.58,1.4,1.91,1.91,0,0,1-.58,1.4L9.25,21ZM18.45,9,17,7.55Zm-12,3A5.31,5.31,0,0,0,4.9,8.1,5.31,5.31,0,0,0,1,6.5,5.31,5.31,0,0,0,4.9,4.9,5.31,5.31,0,0,0,6.5,1,5.31,5.31,0,0,0,8.1,4.9,5.31,5.31,0,0,0,12,6.5,5.46,5.46,0,0,0,6.5,12Z\"/>\n",
              "  </svg>\n",
              "    </button>\n",
              "    <script>\n",
              "      (() => {\n",
              "      const buttonEl =\n",
              "        document.querySelector('#id_0edf73df-ae3b-4b52-bb65-a3a6865d8862 button.colab-df-generate');\n",
              "      buttonEl.style.display =\n",
              "        google.colab.kernel.accessAllowed ? 'block' : 'none';\n",
              "\n",
              "      buttonEl.onclick = () => {\n",
              "        google.colab.notebook.generateWithVariable('enum');\n",
              "      }\n",
              "      })();\n",
              "    </script>\n",
              "  </div>\n",
              "\n",
              "    </div>\n",
              "  </div>\n"
            ],
            "application/vnd.google.colaboratory.intrinsic+json": {
              "type": "dataframe",
              "variable_name": "enum",
              "summary": "{\n  \"name\": \"enum\",\n  \"rows\": 100,\n  \"fields\": [\n    {\n      \"column\": \"numbers\",\n      \"properties\": {\n        \"dtype\": \"string\",\n        \"num_unique_values\": 100,\n        \"samples\": [\n          \"3.0225e6\",\n          \"2.73213e7\",\n          \"2.22822e2\"\n        ],\n        \"semantic_type\": \"\",\n        \"description\": \"\"\n      }\n    },\n    {\n      \"column\": \"converted\",\n      \"properties\": {\n        \"dtype\": \"number\",\n        \"std\": 8591165.357145173,\n        \"min\": 0.0101011,\n        \"max\": 38658800.0,\n        \"num_unique_values\": 100,\n        \"samples\": [\n          3022500.0,\n          27321300.0,\n          222.82199999999997\n        ],\n        \"semantic_type\": \"\",\n        \"description\": \"\"\n      }\n    }\n  ]\n}"
            }
          },
          "metadata": {},
          "execution_count": 21
        }
      ]
    },
    {
      "cell_type": "markdown",
      "metadata": {
        "id": "jKND1Cjcf9Ni"
      },
      "source": [
        "4) [CamelCase](https://en.wikipedia.org/wiki/Camel_case) and [snake_case](https://en.wikipedia.org/wiki/Snake_case) two different ways to name variables.  Write a function (`camel_to_snake`) that converts a string in CamelCase to snake_case.\n"
      ]
    },
    {
      "cell_type": "code",
      "source": [
        "def camel_to_snake(camelString):\n",
        "    occ = re.findall('[A-Z][a-z]+', camelString)\n",
        "    words = []\n",
        "    for word in occ:\n",
        "        words.append(word.lower())\n",
        "    return '_'.join(words)\n",
        "\n",
        "print(camel_to_snake('PippoPlutoPaperino'))\n",
        "\n"
      ],
      "metadata": {
        "id": "rw-hkRfaHvPa",
        "outputId": "979c365e-8c97-4cbc-c55e-0efd0af58461",
        "colab": {
          "base_uri": "https://localhost:8080/"
        }
      },
      "execution_count": 46,
      "outputs": [
        {
          "output_type": "stream",
          "name": "stdout",
          "text": [
            "pippo_pluto_paperino\n"
          ]
        }
      ]
    },
    {
      "cell_type": "code",
      "execution_count": 44,
      "metadata": {
        "tags": [
          "show"
        ],
        "id": "ppLW50X3f9Ni"
      },
      "outputs": [],
      "source": [
        "def camel_to_snake(camelString):\n",
        "    snake_string = \"camel_\"* len(re.findall('Camel', camelString))\n",
        "    return snake_string[:-1]"
      ]
    },
    {
      "cell_type": "code",
      "execution_count": 45,
      "metadata": {
        "tags": [
          "show"
        ],
        "id": "SkeQAYyKf9Nj",
        "outputId": "e0a13707-5df3-4660-cae3-e31c6900ef12",
        "colab": {
          "base_uri": "https://localhost:8080/"
        }
      },
      "outputs": [
        {
          "output_type": "stream",
          "name": "stdout",
          "text": [
            "camel_camel_camel\n"
          ]
        }
      ],
      "source": [
        "print(camel_to_snake('CamelCamelCamel'))\n",
        "# Must print camel_camel_camel"
      ]
    }
  ],
  "metadata": {
    "kernelspec": {
      "display_name": "Python 3 (ipykernel)",
      "language": "python",
      "name": "python3"
    },
    "language_info": {
      "codemirror_mode": {
        "name": "ipython",
        "version": 3
      },
      "file_extension": ".py",
      "mimetype": "text/x-python",
      "name": "python",
      "nbconvert_exporter": "python",
      "pygments_lexer": "ipython3",
      "version": "3.10.6"
    },
    "colab": {
      "provenance": []
    }
  },
  "nbformat": 4,
  "nbformat_minor": 0
}